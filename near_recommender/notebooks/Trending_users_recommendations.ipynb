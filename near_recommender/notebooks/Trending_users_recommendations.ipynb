{
 "cells": [
  {
   "cell_type": "markdown",
   "metadata": {
    "application/vnd.databricks.v1+cell": {
     "cellMetadata": {},
     "inputWidgets": {},
     "nuid": "92d42093-7fbe-4e3a-8f62-c6bbe9d63fe0",
     "showTitle": false,
     "title": ""
    }
   },
   "source": [
    "## Installations and imports"
   ]
  },
  {
   "cell_type": "code",
   "execution_count": 0,
   "metadata": {
    "application/vnd.databricks.v1+cell": {
     "cellMetadata": {
      "byteLimit": 2048000,
      "rowLimit": 10000
     },
     "inputWidgets": {},
     "nuid": "1411b4a0-c853-4adf-b464-fa5920562f5e",
     "showTitle": false,
     "title": ""
    }
   },
   "outputs": [
    {
     "output_type": "stream",
     "name": "stdout",
     "output_type": "stream",
     "text": [
      "Python interpreter will be restarted.\nRequirement already satisfied: scipy in /databricks/python3/lib/python3.9/site-packages (1.7.1)\nCollecting scipy\n  Downloading scipy-1.10.1-cp39-cp39-manylinux_2_17_x86_64.manylinux2014_x86_64.whl (34.5 MB)\nCollecting networkx\n  Downloading networkx-3.1-py3-none-any.whl (2.1 MB)\nCollecting cdlib\n  Downloading cdlib-0.2.6-py3-none-any.whl (228 kB)\nRequirement already satisfied: numpy<1.27.0,>=1.19.5 in /databricks/python3/lib/python3.9/site-packages (from scipy) (1.20.3)\nCollecting pulp\n  Downloading PuLP-2.7.0-py3-none-any.whl (14.3 MB)\nCollecting markov-clustering\n  Downloading markov_clustering-0.0.6.dev0-py3-none-any.whl (6.3 kB)\nRequirement already satisfied: cython in /databricks/python3/lib/python3.9/site-packages (from cdlib) (0.29.24)\nCollecting pyclustering\n  Downloading pyclustering-0.10.1.2.tar.gz (2.6 MB)\nCollecting pooch\n  Downloading pooch-1.7.0-py3-none-any.whl (60 kB)\nCollecting demon\n  Downloading demon-2.0.6-py3-none-any.whl (7.3 kB)\nCollecting future\n  Downloading future-0.18.3.tar.gz (840 kB)\nRequirement already satisfied: matplotlib in /databricks/python3/lib/python3.9/site-packages (from cdlib) (3.4.3)\nCollecting tqdm\n  Downloading tqdm-4.65.0-py3-none-any.whl (77 kB)\nCollecting chinese-whispers\n  Downloading chinese_whispers-0.8.1-py3-none-any.whl (7.8 kB)\nCollecting bimlpa\n  Downloading bimlpa-0.1.2-py3-none-any.whl (7.0 kB)\nCollecting dynetx\n  Downloading dynetx-0.3.1-py3-none-any.whl (39 kB)\nCollecting thresholdclustering\n  Downloading thresholdclustering-1.1-py3-none-any.whl (5.3 kB)\nCollecting eva-lcd\n  Downloading eva_lcd-0.1.1-py3-none-any.whl (9.2 kB)\nCollecting python-louvain>=0.16\n  Downloading python-louvain-0.16.tar.gz (204 kB)\nRequirement already satisfied: pandas in /databricks/python3/lib/python3.9/site-packages (from cdlib) (1.3.4)\nRequirement already satisfied: scikit-learn in /databricks/python3/lib/python3.9/site-packages (from cdlib) (0.24.2)\nCollecting nf1\n  Downloading nf1-0.0.4-py3-none-any.whl (18 kB)\nCollecting python-igraph\n  Downloading python-igraph-0.10.4.tar.gz (9.5 kB)\nCollecting angel-cd\n  Downloading angel_cd-1.0.3-py3-none-any.whl (10 kB)\nRequirement already satisfied: seaborn in /databricks/python3/lib/python3.9/site-packages (from cdlib) (0.11.2)\nCollecting python-Levenshtein\n  Downloading python_Levenshtein-0.21.0-py3-none-any.whl (9.4 kB)\nCollecting networkx\n  Downloading networkx-2.8.8-py3-none-any.whl (2.0 MB)\nRequirement already satisfied: decorator in /databricks/python3/lib/python3.9/site-packages (from dynetx->cdlib) (5.1.0)\nRequirement already satisfied: python-dateutil>=2.7 in /databricks/python3/lib/python3.9/site-packages (from matplotlib->cdlib) (2.8.2)\nRequirement already satisfied: kiwisolver>=1.0.1 in /databricks/python3/lib/python3.9/site-packages (from matplotlib->cdlib) (1.3.1)\nRequirement already satisfied: pyparsing>=2.2.1 in /databricks/python3/lib/python3.9/site-packages (from matplotlib->cdlib) (3.0.4)\nRequirement already satisfied: cycler>=0.10 in /databricks/python3/lib/python3.9/site-packages (from matplotlib->cdlib) (0.10.0)\nRequirement already satisfied: pillow>=6.2.0 in /databricks/python3/lib/python3.9/site-packages (from matplotlib->cdlib) (8.4.0)\nRequirement already satisfied: six in /databricks/python3/lib/python3.9/site-packages (from cycler>=0.10->matplotlib->cdlib) (1.16.0)\nRequirement already satisfied: pytz>=2017.3 in /databricks/python3/lib/python3.9/site-packages (from pandas->cdlib) (2021.3)\nRequirement already satisfied: packaging>=20.0 in /databricks/python3/lib/python3.9/site-packages (from pooch->cdlib) (21.0)\nRequirement already satisfied: platformdirs>=2.5.0 in /usr/local/lib/python3.9/dist-packages (from pooch->cdlib) (2.5.2)\nRequirement already satisfied: requests>=2.19.0 in /databricks/python3/lib/python3.9/site-packages (from pooch->cdlib) (2.26.0)\nRequirement already satisfied: idna<4,>=2.5 in /databricks/python3/lib/python3.9/site-packages (from requests>=2.19.0->pooch->cdlib) (3.2)\nRequirement already satisfied: charset-normalizer~=2.0.0 in /databricks/python3/lib/python3.9/site-packages (from requests>=2.19.0->pooch->cdlib) (2.0.4)\nRequirement already satisfied: urllib3<1.27,>=1.21.1 in /databricks/python3/lib/python3.9/site-packages (from requests>=2.19.0->pooch->cdlib) (1.26.7)\nRequirement already satisfied: certifi>=2017.4.17 in /databricks/python3/lib/python3.9/site-packages (from requests>=2.19.0->pooch->cdlib) (2021.10.8)\nCollecting igraph==0.10.4\n  Downloading igraph-0.10.4-cp39-abi3-manylinux_2_17_x86_64.manylinux2014_x86_64.whl (3.3 MB)\nCollecting texttable>=1.6.2\n  Downloading texttable-1.6.7-py2.py3-none-any.whl (10 kB)\nCollecting Levenshtein==0.21.0\n  Downloading Levenshtein-0.21.0-cp39-cp39-manylinux_2_17_x86_64.manylinux2014_x86_64.whl (175 kB)\nCollecting rapidfuzz<4.0.0,>=2.3.0\n  Downloading rapidfuzz-3.0.0-cp39-cp39-manylinux_2_17_x86_64.manylinux2014_x86_64.whl (3.1 MB)\nRequirement already satisfied: threadpoolctl>=2.0.0 in /databricks/python3/lib/python3.9/site-packages (from scikit-learn->cdlib) (2.2.0)\nRequirement already satisfied: joblib>=0.11 in /databricks/python3/lib/python3.9/site-packages (from scikit-learn->cdlib) (1.0.1)\nBuilding wheels for collected packages: python-louvain, future, pyclustering, python-igraph\n  Building wheel for python-louvain (setup.py): started\n  Building wheel for python-louvain (setup.py): finished with status 'done'\n  Created wheel for python-louvain: filename=python_louvain-0.16-py3-none-any.whl size=9407 sha256=8d263578a8521376e9a4997b4fafadddcfa8f4ec914661abb90f977aee873858\n  Stored in directory: /root/.cache/pip/wheels/4d/7c/b6/79b198e4ec43f915fbdf967953d48b89a18893b12aa9df0ae2\n  Building wheel for future (setup.py): started\n  Building wheel for future (setup.py): finished with status 'done'\n  Created wheel for future: filename=future-0.18.3-py3-none-any.whl size=492036 sha256=c3e1711472c70c9eab5b0f05239ed30459af5846c4c6902bba2e85466880f184\n  Stored in directory: /root/.cache/pip/wheels/bf/5d/6a/2e53874f7ec4e2bede522385439531fafec8fafe005b5c3d1b\n  Building wheel for pyclustering (setup.py): started\n  Building wheel for pyclustering (setup.py): finished with status 'done'\n  Created wheel for pyclustering: filename=pyclustering-0.10.1.2-py3-none-any.whl size=2395121 sha256=4e4330498daad42d31023a248bfc43a558aa8b120fdc28831657303cc5e3af84\n  Stored in directory: /root/.cache/pip/wheels/e0/56/c2/abb6866a3fcd8a55862f1df8a18f57805c3a78fed9a9023cb9\n  Building wheel for python-igraph (setup.py): started\n  Building wheel for python-igraph (setup.py): finished with status 'done'\n  Created wheel for python-igraph: filename=python_igraph-0.10.4-py3-none-any.whl size=9076 sha256=e7bab298fe2ef14f616fa393654b35d38db90acc8b8cb2e0dfda7dfd52a2c4ca\n  Stored in directory: /root/.cache/pip/wheels/dc/07/ac/bff79052fd6222d1239b228cd24a47222f227c2350f9c4df01\nSuccessfully built python-louvain future pyclustering python-igraph\nInstalling collected packages: texttable, scipy, rapidfuzz, igraph, tqdm, python-igraph, networkx, Levenshtein, future, thresholdclustering, python-louvain, python-Levenshtein, pyclustering, pulp, pooch, nf1, markov-clustering, eva-lcd, dynetx, demon, chinese-whispers, bimlpa, angel-cd, cdlib\n  Attempting uninstall: scipy\n    Found existing installation: scipy 1.7.1\n    Not uninstalling scipy at /databricks/python3/lib/python3.9/site-packages, outside environment /local_disk0/.ephemeral_nfs/envs/pythonEnv-027248e6-08df-4908-bb28-938531390697\n    Can't uninstall 'scipy'. No files were found to uninstall.\nSuccessfully installed Levenshtein-0.21.0 angel-cd-1.0.3 bimlpa-0.1.2 cdlib-0.2.6 chinese-whispers-0.8.1 demon-2.0.6 dynetx-0.3.1 eva-lcd-0.1.1 future-0.18.3 igraph-0.10.4 markov-clustering-0.0.6.dev0 networkx-2.8.8 nf1-0.0.4 pooch-1.7.0 pulp-2.7.0 pyclustering-0.10.1.2 python-Levenshtein-0.21.0 python-igraph-0.10.4 python-louvain-0.16 rapidfuzz-3.0.0 scipy-1.10.1 texttable-1.6.7 thresholdclustering-1.1 tqdm-4.65.0\nPython interpreter will be restarted.\n"
     ]
    }
   ],
   "source": [
    "%pip install --upgrade scipy networkx cdlib"
   ]
  },
  {
   "cell_type": "code",
   "execution_count": 0,
   "metadata": {
    "application/vnd.databricks.v1+cell": {
     "cellMetadata": {
      "byteLimit": 2048000,
      "rowLimit": 10000
     },
     "inputWidgets": {},
     "nuid": "e06c9dd2-b64d-497a-8c3d-b1dfedb1e64c",
     "showTitle": false,
     "title": ""
    }
   },
   "outputs": [],
   "source": [
    "import pandas as pd\n",
    "import numpy as np\n",
    "import networkx as nx\n",
    "import matplotlib.pyplot as plt\n",
    "from cdlib import algorithms\n",
    "import random"
   ]
  },
  {
   "cell_type": "markdown",
   "metadata": {
    "application/vnd.databricks.v1+cell": {
     "cellMetadata": {},
     "inputWidgets": {},
     "nuid": "0bdebc51-0056-4924-bb1f-053e0850676b",
     "showTitle": false,
     "title": ""
    }
   },
   "source": [
    "## Graphs"
   ]
  },
  {
   "cell_type": "code",
   "execution_count": 0,
   "metadata": {
    "application/vnd.databricks.v1+cell": {
     "cellMetadata": {
      "byteLimit": 2048000,
      "rowLimit": 10000
     },
     "inputWidgets": {},
     "nuid": "2fe8051c-2b16-44f3-83a9-54cd043a1ae9",
     "showTitle": false,
     "title": ""
    }
   },
   "outputs": [],
   "source": [
    "# Load SQL tables as DF\n",
    "follows_df = spark.sql('SELECT signer_id, follows, type FROM hive_metastore.sit.graph_follows').toPandas()\n",
    "metrics_df = spark.sql('SELECT * FROM hive_metastore.sit.users_agg_metrics').toPandas().fillna(0)\n",
    "\n",
    "# Define Graphs from follows/likes DF\n",
    "G_follows = nx.from_pandas_edgelist(follows_df[follows_df['type']=='FOLLOW'], source='signer_id', target='follows')#, edge_attr=['type'])   #97% of actions are FOLLOWS\n",
    "\n",
    "# Communities Detection\n",
    "louvain_follows = algorithms.louvain(G_follows, weight='weight', resolution=1., randomize=False)\n",
    "walktrap_follows = algorithms.walktrap(G_follows)\n"
   ]
  },
  {
   "cell_type": "code",
   "execution_count": 0,
   "metadata": {
    "application/vnd.databricks.v1+cell": {
     "cellMetadata": {
      "byteLimit": 2048000,
      "rowLimit": 10000
     },
     "inputWidgets": {},
     "nuid": "37e264c0-b4d3-44ba-a707-32123c2dd9e0",
     "showTitle": false,
     "title": ""
    }
   },
   "outputs": [
    {
     "output_type": "stream",
     "name": "stdout",
     "output_type": "stream",
     "text": [
      "Out[123]: (7458, 36)"
     ]
    }
   ],
   "source": [
    "if louvain_follows.overlap == False:\n",
    "    # Map Louvain follows communities to users\n",
    "    lf_dict = {'signer_id': [], 'louvain_community': []}\n",
    "    for i, community in enumerate(louvain_follows.communities):\n",
    "        for user in community:\n",
    "            lf_dict['signer_id'].append(user)\n",
    "            lf_dict['louvain_community'].append(i)\n",
    "\n",
    "    # Create a pandas dataframe from the data dictionary\n",
    "    lf_df = pd.DataFrame(lf_dict)\n",
    "\n",
    "if walktrap_follows.overlap == False:\n",
    "    # Map Louvain follows communities to users\n",
    "    wt_dict = {'signer_id': [], 'walktrap_community': []}\n",
    "    for i, community in enumerate(walktrap_follows.communities):\n",
    "        for user in community:\n",
    "            wt_dict['signer_id'].append(user)\n",
    "            wt_dict['walktrap_community'].append(i)\n",
    "\n",
    "    # Create a pandas dataframe from the data dictionary\n",
    "    wt_df = pd.DataFrame(wt_dict)\n",
    "\n",
    "lcom_size_dict = dict(lf_df['louvain_community'].value_counts())\n",
    "wtcom_size_dict = dict(wt_df['walktrap_community'].value_counts())\n",
    "\n",
    "communities_df = pd.merge(lf_df, wt_df, on='signer_id')\n",
    "communities_df['louvain_size'] = communities_df['louvain_community'].apply(lambda x: lcom_size_dict[x])\n",
    "communities_df['walktrap_size'] = communities_df['walktrap_community'].apply(lambda x: wtcom_size_dict[x])\n",
    "\n",
    "df = pd.merge(metrics_df, communities_df, on='signer_id', how='left')\n",
    "df.shape"
   ]
  },
  {
   "cell_type": "code",
   "execution_count": 0,
   "metadata": {
    "application/vnd.databricks.v1+cell": {
     "cellMetadata": {
      "byteLimit": 2048000,
      "rowLimit": 10000
     },
     "inputWidgets": {},
     "nuid": "1d1e1ce5-518c-458a-9e83-776c4dc8b877",
     "showTitle": false,
     "title": ""
    }
   },
   "outputs": [
    {
     "output_type": "stream",
     "name": "stdout",
     "output_type": "stream",
     "text": [
      "Out[183]: 'auroraecosystemnews.near'"
     ]
    }
   ],
   "source": [
    "df.loc[0][0]"
   ]
  },
  {
   "cell_type": "code",
   "execution_count": 0,
   "metadata": {
    "application/vnd.databricks.v1+cell": {
     "cellMetadata": {
      "byteLimit": 2048000,
      "rowLimit": 10000
     },
     "inputWidgets": {},
     "nuid": "7f46bcf2-040d-481e-a8f1-5a32071376a8",
     "showTitle": false,
     "title": ""
    }
   },
   "outputs": [
    {
     "output_type": "display_data",
     "data": {
      "text/html": [
       "<div>\n",
       "<style scoped>\n",
       "    .dataframe tbody tr th:only-of-type {\n",
       "        vertical-align: middle;\n",
       "    }\n",
       "\n",
       "    .dataframe tbody tr th {\n",
       "        vertical-align: top;\n",
       "    }\n",
       "\n",
       "    .dataframe thead th {\n",
       "        text-align: right;\n",
       "    }\n",
       "</style>\n",
       "<table border=\"1\" class=\"dataframe\">\n",
       "  <thead>\n",
       "    <tr style=\"text-align: right;\">\n",
       "      <th></th>\n",
       "      <th>signer_id</th>\n",
       "      <th>followers</th>\n",
       "      <th>engagement_weighted_30d</th>\n",
       "      <th>activity_weighted_30d</th>\n",
       "      <th>louvain_community</th>\n",
       "      <th>trending_metric</th>\n",
       "    </tr>\n",
       "  </thead>\n",
       "  <tbody>\n",
       "    <tr>\n",
       "      <th>53</th>\n",
       "      <td>neardigitalcollective.near</td>\n",
       "      <td>55.0</td>\n",
       "      <td>108.63</td>\n",
       "      <td>3.65</td>\n",
       "      <td>4.0</td>\n",
       "      <td>29.761644</td>\n",
       "    </tr>\n",
       "    <tr>\n",
       "      <th>14</th>\n",
       "      <td>jumpdefisocial.near</td>\n",
       "      <td>137.0</td>\n",
       "      <td>62.39</td>\n",
       "      <td>8.97</td>\n",
       "      <td>5.0</td>\n",
       "      <td>6.955407</td>\n",
       "    </tr>\n",
       "    <tr>\n",
       "      <th>1</th>\n",
       "      <td>root.near</td>\n",
       "      <td>393.0</td>\n",
       "      <td>242.73</td>\n",
       "      <td>36.07</td>\n",
       "      <td>1.0</td>\n",
       "      <td>6.729415</td>\n",
       "    </tr>\n",
       "    <tr>\n",
       "      <th>36</th>\n",
       "      <td>mintbase.near</td>\n",
       "      <td>69.0</td>\n",
       "      <td>65.71</td>\n",
       "      <td>11.25</td>\n",
       "      <td>4.0</td>\n",
       "      <td>5.840889</td>\n",
       "    </tr>\n",
       "    <tr>\n",
       "      <th>13</th>\n",
       "      <td>nearmax.near</td>\n",
       "      <td>137.0</td>\n",
       "      <td>49.53</td>\n",
       "      <td>10.26</td>\n",
       "      <td>1.0</td>\n",
       "      <td>4.827485</td>\n",
       "    </tr>\n",
       "    <tr>\n",
       "      <th>0</th>\n",
       "      <td>auroraecosystemnews.near</td>\n",
       "      <td>1161.0</td>\n",
       "      <td>617.95</td>\n",
       "      <td>181.45</td>\n",
       "      <td>0.0</td>\n",
       "      <td>3.405621</td>\n",
       "    </tr>\n",
       "    <tr>\n",
       "      <th>65</th>\n",
       "      <td>nekosocial.near</td>\n",
       "      <td>47.0</td>\n",
       "      <td>49.89</td>\n",
       "      <td>16.21</td>\n",
       "      <td>5.0</td>\n",
       "      <td>3.077730</td>\n",
       "    </tr>\n",
       "    <tr>\n",
       "      <th>327</th>\n",
       "      <td>nearxartdao.near</td>\n",
       "      <td>9.0</td>\n",
       "      <td>13.89</td>\n",
       "      <td>5.64</td>\n",
       "      <td>9.0</td>\n",
       "      <td>2.462766</td>\n",
       "    </tr>\n",
       "    <tr>\n",
       "      <th>16</th>\n",
       "      <td>vlad.near</td>\n",
       "      <td>133.0</td>\n",
       "      <td>57.13</td>\n",
       "      <td>25.11</td>\n",
       "      <td>1.0</td>\n",
       "      <td>2.275189</td>\n",
       "    </tr>\n",
       "    <tr>\n",
       "      <th>52</th>\n",
       "      <td>chefsale.near</td>\n",
       "      <td>55.0</td>\n",
       "      <td>24.45</td>\n",
       "      <td>11.56</td>\n",
       "      <td>1.0</td>\n",
       "      <td>2.115052</td>\n",
       "    </tr>\n",
       "    <tr>\n",
       "      <th>37</th>\n",
       "      <td>petersalomonsen.near</td>\n",
       "      <td>67.0</td>\n",
       "      <td>36.31</td>\n",
       "      <td>17.22</td>\n",
       "      <td>1.0</td>\n",
       "      <td>2.108595</td>\n",
       "    </tr>\n",
       "    <tr>\n",
       "      <th>2</th>\n",
       "      <td>mob.near</td>\n",
       "      <td>267.0</td>\n",
       "      <td>100.01</td>\n",
       "      <td>51.55</td>\n",
       "      <td>1.0</td>\n",
       "      <td>1.940058</td>\n",
       "    </tr>\n",
       "    <tr>\n",
       "      <th>93</th>\n",
       "      <td>mundoaurora.near</td>\n",
       "      <td>35.0</td>\n",
       "      <td>99.85</td>\n",
       "      <td>53.01</td>\n",
       "      <td>0.0</td>\n",
       "      <td>1.883607</td>\n",
       "    </tr>\n",
       "    <tr>\n",
       "      <th>253</th>\n",
       "      <td>obukhova.near</td>\n",
       "      <td>12.0</td>\n",
       "      <td>19.18</td>\n",
       "      <td>10.29</td>\n",
       "      <td>1.0</td>\n",
       "      <td>1.863946</td>\n",
       "    </tr>\n",
       "    <tr>\n",
       "      <th>5</th>\n",
       "      <td>marieke.near</td>\n",
       "      <td>174.0</td>\n",
       "      <td>63.70</td>\n",
       "      <td>37.30</td>\n",
       "      <td>1.0</td>\n",
       "      <td>1.707775</td>\n",
       "    </tr>\n",
       "    <tr>\n",
       "      <th>120</th>\n",
       "      <td>itsmarcus.near</td>\n",
       "      <td>27.0</td>\n",
       "      <td>17.83</td>\n",
       "      <td>10.92</td>\n",
       "      <td>1.0</td>\n",
       "      <td>1.632784</td>\n",
       "    </tr>\n",
       "    <tr>\n",
       "      <th>450</th>\n",
       "      <td>bilibili.near</td>\n",
       "      <td>6.0</td>\n",
       "      <td>3.64</td>\n",
       "      <td>2.32</td>\n",
       "      <td>1.0</td>\n",
       "      <td>1.568966</td>\n",
       "    </tr>\n",
       "    <tr>\n",
       "      <th>781</th>\n",
       "      <td>scopalaffairs.near</td>\n",
       "      <td>3.0</td>\n",
       "      <td>9.59</td>\n",
       "      <td>6.30</td>\n",
       "      <td>4.0</td>\n",
       "      <td>1.522222</td>\n",
       "    </tr>\n",
       "    <tr>\n",
       "      <th>8</th>\n",
       "      <td>readylayerone.near</td>\n",
       "      <td>147.0</td>\n",
       "      <td>76.27</td>\n",
       "      <td>51.56</td>\n",
       "      <td>1.0</td>\n",
       "      <td>1.479247</td>\n",
       "    </tr>\n",
       "    <tr>\n",
       "      <th>19</th>\n",
       "      <td>hackerhouse.near</td>\n",
       "      <td>121.0</td>\n",
       "      <td>89.83</td>\n",
       "      <td>64.88</td>\n",
       "      <td>1.0</td>\n",
       "      <td>1.384556</td>\n",
       "    </tr>\n",
       "  </tbody>\n",
       "</table>\n",
       "</div>"
      ]
     },
     "metadata": {
      "application/vnd.databricks.v1+output": {
       "addedWidgets": {},
       "arguments": {},
       "data": "<div>\n<style scoped>\n    .dataframe tbody tr th:only-of-type {\n        vertical-align: middle;\n    }\n\n    .dataframe tbody tr th {\n        vertical-align: top;\n    }\n\n    .dataframe thead th {\n        text-align: right;\n    }\n</style>\n<table border=\"1\" class=\"dataframe\">\n  <thead>\n    <tr style=\"text-align: right;\">\n      <th></th>\n      <th>signer_id</th>\n      <th>followers</th>\n      <th>engagement_weighted_30d</th>\n      <th>activity_weighted_30d</th>\n      <th>louvain_community</th>\n      <th>trending_metric</th>\n    </tr>\n  </thead>\n  <tbody>\n    <tr>\n      <th>53</th>\n      <td>neardigitalcollective.near</td>\n      <td>55.0</td>\n      <td>108.63</td>\n      <td>3.65</td>\n      <td>4.0</td>\n      <td>29.761644</td>\n    </tr>\n    <tr>\n      <th>14</th>\n      <td>jumpdefisocial.near</td>\n      <td>137.0</td>\n      <td>62.39</td>\n      <td>8.97</td>\n      <td>5.0</td>\n      <td>6.955407</td>\n    </tr>\n    <tr>\n      <th>1</th>\n      <td>root.near</td>\n      <td>393.0</td>\n      <td>242.73</td>\n      <td>36.07</td>\n      <td>1.0</td>\n      <td>6.729415</td>\n    </tr>\n    <tr>\n      <th>36</th>\n      <td>mintbase.near</td>\n      <td>69.0</td>\n      <td>65.71</td>\n      <td>11.25</td>\n      <td>4.0</td>\n      <td>5.840889</td>\n    </tr>\n    <tr>\n      <th>13</th>\n      <td>nearmax.near</td>\n      <td>137.0</td>\n      <td>49.53</td>\n      <td>10.26</td>\n      <td>1.0</td>\n      <td>4.827485</td>\n    </tr>\n    <tr>\n      <th>0</th>\n      <td>auroraecosystemnews.near</td>\n      <td>1161.0</td>\n      <td>617.95</td>\n      <td>181.45</td>\n      <td>0.0</td>\n      <td>3.405621</td>\n    </tr>\n    <tr>\n      <th>65</th>\n      <td>nekosocial.near</td>\n      <td>47.0</td>\n      <td>49.89</td>\n      <td>16.21</td>\n      <td>5.0</td>\n      <td>3.077730</td>\n    </tr>\n    <tr>\n      <th>327</th>\n      <td>nearxartdao.near</td>\n      <td>9.0</td>\n      <td>13.89</td>\n      <td>5.64</td>\n      <td>9.0</td>\n      <td>2.462766</td>\n    </tr>\n    <tr>\n      <th>16</th>\n      <td>vlad.near</td>\n      <td>133.0</td>\n      <td>57.13</td>\n      <td>25.11</td>\n      <td>1.0</td>\n      <td>2.275189</td>\n    </tr>\n    <tr>\n      <th>52</th>\n      <td>chefsale.near</td>\n      <td>55.0</td>\n      <td>24.45</td>\n      <td>11.56</td>\n      <td>1.0</td>\n      <td>2.115052</td>\n    </tr>\n    <tr>\n      <th>37</th>\n      <td>petersalomonsen.near</td>\n      <td>67.0</td>\n      <td>36.31</td>\n      <td>17.22</td>\n      <td>1.0</td>\n      <td>2.108595</td>\n    </tr>\n    <tr>\n      <th>2</th>\n      <td>mob.near</td>\n      <td>267.0</td>\n      <td>100.01</td>\n      <td>51.55</td>\n      <td>1.0</td>\n      <td>1.940058</td>\n    </tr>\n    <tr>\n      <th>93</th>\n      <td>mundoaurora.near</td>\n      <td>35.0</td>\n      <td>99.85</td>\n      <td>53.01</td>\n      <td>0.0</td>\n      <td>1.883607</td>\n    </tr>\n    <tr>\n      <th>253</th>\n      <td>obukhova.near</td>\n      <td>12.0</td>\n      <td>19.18</td>\n      <td>10.29</td>\n      <td>1.0</td>\n      <td>1.863946</td>\n    </tr>\n    <tr>\n      <th>5</th>\n      <td>marieke.near</td>\n      <td>174.0</td>\n      <td>63.70</td>\n      <td>37.30</td>\n      <td>1.0</td>\n      <td>1.707775</td>\n    </tr>\n    <tr>\n      <th>120</th>\n      <td>itsmarcus.near</td>\n      <td>27.0</td>\n      <td>17.83</td>\n      <td>10.92</td>\n      <td>1.0</td>\n      <td>1.632784</td>\n    </tr>\n    <tr>\n      <th>450</th>\n      <td>bilibili.near</td>\n      <td>6.0</td>\n      <td>3.64</td>\n      <td>2.32</td>\n      <td>1.0</td>\n      <td>1.568966</td>\n    </tr>\n    <tr>\n      <th>781</th>\n      <td>scopalaffairs.near</td>\n      <td>3.0</td>\n      <td>9.59</td>\n      <td>6.30</td>\n      <td>4.0</td>\n      <td>1.522222</td>\n    </tr>\n    <tr>\n      <th>8</th>\n      <td>readylayerone.near</td>\n      <td>147.0</td>\n      <td>76.27</td>\n      <td>51.56</td>\n      <td>1.0</td>\n      <td>1.479247</td>\n    </tr>\n    <tr>\n      <th>19</th>\n      <td>hackerhouse.near</td>\n      <td>121.0</td>\n      <td>89.83</td>\n      <td>64.88</td>\n      <td>1.0</td>\n      <td>1.384556</td>\n    </tr>\n  </tbody>\n</table>\n</div>",
       "datasetInfos": [],
       "metadata": {},
       "removedWidgets": [],
       "textData": null,
       "type": "htmlSandbox"
      }
     },
     "output_type": "display_data"
    }
   ],
   "source": [
    "df['trending_metric'] = (df['engagement_weighted_30d'])/df['activity_weighted_30d']\n",
    "trending_users_df = df[['signer_id', \n",
    "                        'followers',\n",
    "                        'engagement_weighted_30d', \n",
    "                        'activity_weighted_30d', \n",
    "                        'louvain_community',\n",
    "                        'trending_metric'\n",
    "                        ]].sort_values('trending_metric', ascending=False).head(20)\n",
    "trending_users_df"
   ]
  },
  {
   "cell_type": "code",
   "execution_count": 0,
   "metadata": {
    "application/vnd.databricks.v1+cell": {
     "cellMetadata": {
      "byteLimit": 2048000,
      "rowLimit": 10000
     },
     "inputWidgets": {},
     "nuid": "76e2ef24-a4d3-4be2-83ed-3f37b8095eca",
     "showTitle": false,
     "title": ""
    }
   },
   "outputs": [
    {
     "output_type": "display_data",
     "data": {
      "text/html": [
       "<div>\n",
       "<style scoped>\n",
       "    .dataframe tbody tr th:only-of-type {\n",
       "        vertical-align: middle;\n",
       "    }\n",
       "\n",
       "    .dataframe tbody tr th {\n",
       "        vertical-align: top;\n",
       "    }\n",
       "\n",
       "    .dataframe thead th {\n",
       "        text-align: right;\n",
       "    }\n",
       "</style>\n",
       "<table border=\"1\" class=\"dataframe\">\n",
       "  <thead>\n",
       "    <tr style=\"text-align: right;\">\n",
       "      <th></th>\n",
       "      <th>signer_id</th>\n",
       "      <th>followers</th>\n",
       "      <th>engagement_weighted_30d</th>\n",
       "      <th>activity_weighted_30d</th>\n",
       "      <th>louvain_community</th>\n",
       "      <th>louvain_size</th>\n",
       "      <th>trending_metric</th>\n",
       "      <th>rank</th>\n",
       "    </tr>\n",
       "  </thead>\n",
       "  <tbody>\n",
       "    <tr>\n",
       "      <th>53</th>\n",
       "      <td>neardigitalcollective.near</td>\n",
       "      <td>55.0</td>\n",
       "      <td>108.63</td>\n",
       "      <td>3.65</td>\n",
       "      <td>4.0</td>\n",
       "      <td>308.0</td>\n",
       "      <td>29.761644</td>\n",
       "      <td>1.0</td>\n",
       "    </tr>\n",
       "    <tr>\n",
       "      <th>14</th>\n",
       "      <td>jumpdefisocial.near</td>\n",
       "      <td>137.0</td>\n",
       "      <td>62.39</td>\n",
       "      <td>8.97</td>\n",
       "      <td>5.0</td>\n",
       "      <td>259.0</td>\n",
       "      <td>6.955407</td>\n",
       "      <td>1.0</td>\n",
       "    </tr>\n",
       "    <tr>\n",
       "      <th>1</th>\n",
       "      <td>root.near</td>\n",
       "      <td>393.0</td>\n",
       "      <td>242.73</td>\n",
       "      <td>36.07</td>\n",
       "      <td>1.0</td>\n",
       "      <td>572.0</td>\n",
       "      <td>6.729415</td>\n",
       "      <td>1.0</td>\n",
       "    </tr>\n",
       "    <tr>\n",
       "      <th>36</th>\n",
       "      <td>mintbase.near</td>\n",
       "      <td>69.0</td>\n",
       "      <td>65.71</td>\n",
       "      <td>11.25</td>\n",
       "      <td>4.0</td>\n",
       "      <td>308.0</td>\n",
       "      <td>5.840889</td>\n",
       "      <td>2.0</td>\n",
       "    </tr>\n",
       "    <tr>\n",
       "      <th>13</th>\n",
       "      <td>nearmax.near</td>\n",
       "      <td>137.0</td>\n",
       "      <td>49.53</td>\n",
       "      <td>10.26</td>\n",
       "      <td>1.0</td>\n",
       "      <td>572.0</td>\n",
       "      <td>4.827485</td>\n",
       "      <td>2.0</td>\n",
       "    </tr>\n",
       "    <tr>\n",
       "      <th>0</th>\n",
       "      <td>auroraecosystemnews.near</td>\n",
       "      <td>1161.0</td>\n",
       "      <td>617.95</td>\n",
       "      <td>181.45</td>\n",
       "      <td>0.0</td>\n",
       "      <td>960.0</td>\n",
       "      <td>3.405621</td>\n",
       "      <td>1.0</td>\n",
       "    </tr>\n",
       "    <tr>\n",
       "      <th>65</th>\n",
       "      <td>nekosocial.near</td>\n",
       "      <td>47.0</td>\n",
       "      <td>49.89</td>\n",
       "      <td>16.21</td>\n",
       "      <td>5.0</td>\n",
       "      <td>259.0</td>\n",
       "      <td>3.077730</td>\n",
       "      <td>2.0</td>\n",
       "    </tr>\n",
       "    <tr>\n",
       "      <th>327</th>\n",
       "      <td>nearxartdao.near</td>\n",
       "      <td>9.0</td>\n",
       "      <td>13.89</td>\n",
       "      <td>5.64</td>\n",
       "      <td>9.0</td>\n",
       "      <td>80.0</td>\n",
       "      <td>2.462766</td>\n",
       "      <td>1.0</td>\n",
       "    </tr>\n",
       "    <tr>\n",
       "      <th>93</th>\n",
       "      <td>mundoaurora.near</td>\n",
       "      <td>35.0</td>\n",
       "      <td>99.85</td>\n",
       "      <td>53.01</td>\n",
       "      <td>0.0</td>\n",
       "      <td>960.0</td>\n",
       "      <td>1.883607</td>\n",
       "      <td>2.0</td>\n",
       "    </tr>\n",
       "    <tr>\n",
       "      <th>302</th>\n",
       "      <td>moonbasedao.near</td>\n",
       "      <td>10.0</td>\n",
       "      <td>6.28</td>\n",
       "      <td>5.61</td>\n",
       "      <td>12.0</td>\n",
       "      <td>41.0</td>\n",
       "      <td>1.119430</td>\n",
       "      <td>1.0</td>\n",
       "    </tr>\n",
       "    <tr>\n",
       "      <th>1113</th>\n",
       "      <td>3f165cfc842dd839a00c78d2e7470857ae98e640dc303f...</td>\n",
       "      <td>2.0</td>\n",
       "      <td>10.92</td>\n",
       "      <td>11.26</td>\n",
       "      <td>12.0</td>\n",
       "      <td>41.0</td>\n",
       "      <td>0.969805</td>\n",
       "      <td>2.0</td>\n",
       "    </tr>\n",
       "    <tr>\n",
       "      <th>1565</th>\n",
       "      <td>capricanna.near</td>\n",
       "      <td>1.0</td>\n",
       "      <td>9.27</td>\n",
       "      <td>11.92</td>\n",
       "      <td>8.0</td>\n",
       "      <td>117.0</td>\n",
       "      <td>0.777685</td>\n",
       "      <td>1.0</td>\n",
       "    </tr>\n",
       "    <tr>\n",
       "      <th>223</th>\n",
       "      <td>evangel.near</td>\n",
       "      <td>15.0</td>\n",
       "      <td>19.49</td>\n",
       "      <td>25.83</td>\n",
       "      <td>7.0</td>\n",
       "      <td>167.0</td>\n",
       "      <td>0.754549</td>\n",
       "      <td>1.0</td>\n",
       "    </tr>\n",
       "    <tr>\n",
       "      <th>512</th>\n",
       "      <td>a27c8a37df860773364fd7d1d62c9952910c907f23ecbc...</td>\n",
       "      <td>5.0</td>\n",
       "      <td>13.23</td>\n",
       "      <td>18.31</td>\n",
       "      <td>8.0</td>\n",
       "      <td>117.0</td>\n",
       "      <td>0.722556</td>\n",
       "      <td>2.0</td>\n",
       "    </tr>\n",
       "    <tr>\n",
       "      <th>1252</th>\n",
       "      <td>davidnvg1511.near</td>\n",
       "      <td>1.0</td>\n",
       "      <td>2.99</td>\n",
       "      <td>4.32</td>\n",
       "      <td>10.0</td>\n",
       "      <td>73.0</td>\n",
       "      <td>0.692130</td>\n",
       "      <td>1.0</td>\n",
       "    </tr>\n",
       "    <tr>\n",
       "      <th>1568</th>\n",
       "      <td>leanhtuan151191.near</td>\n",
       "      <td>1.0</td>\n",
       "      <td>2.99</td>\n",
       "      <td>4.32</td>\n",
       "      <td>3.0</td>\n",
       "      <td>398.0</td>\n",
       "      <td>0.692130</td>\n",
       "      <td>1.0</td>\n",
       "    </tr>\n",
       "    <tr>\n",
       "      <th>391</th>\n",
       "      <td>captainphilips.near</td>\n",
       "      <td>8.0</td>\n",
       "      <td>8.26</td>\n",
       "      <td>18.19</td>\n",
       "      <td>3.0</td>\n",
       "      <td>398.0</td>\n",
       "      <td>0.454096</td>\n",
       "      <td>2.0</td>\n",
       "    </tr>\n",
       "    <tr>\n",
       "      <th>247</th>\n",
       "      <td>verstor212.near</td>\n",
       "      <td>13.0</td>\n",
       "      <td>16.51</td>\n",
       "      <td>38.79</td>\n",
       "      <td>10.0</td>\n",
       "      <td>73.0</td>\n",
       "      <td>0.425625</td>\n",
       "      <td>2.0</td>\n",
       "    </tr>\n",
       "    <tr>\n",
       "      <th>775</th>\n",
       "      <td>supercoolkay.near</td>\n",
       "      <td>3.0</td>\n",
       "      <td>0.00</td>\n",
       "      <td>6.96</td>\n",
       "      <td>9.0</td>\n",
       "      <td>80.0</td>\n",
       "      <td>0.000000</td>\n",
       "      <td>2.0</td>\n",
       "    </tr>\n",
       "    <tr>\n",
       "      <th>12</th>\n",
       "      <td>whendacha.near</td>\n",
       "      <td>137.0</td>\n",
       "      <td>0.00</td>\n",
       "      <td>66.66</td>\n",
       "      <td>7.0</td>\n",
       "      <td>167.0</td>\n",
       "      <td>0.000000</td>\n",
       "      <td>2.0</td>\n",
       "    </tr>\n",
       "  </tbody>\n",
       "</table>\n",
       "</div>"
      ]
     },
     "metadata": {
      "application/vnd.databricks.v1+output": {
       "addedWidgets": {},
       "arguments": {},
       "data": "<div>\n<style scoped>\n    .dataframe tbody tr th:only-of-type {\n        vertical-align: middle;\n    }\n\n    .dataframe tbody tr th {\n        vertical-align: top;\n    }\n\n    .dataframe thead th {\n        text-align: right;\n    }\n</style>\n<table border=\"1\" class=\"dataframe\">\n  <thead>\n    <tr style=\"text-align: right;\">\n      <th></th>\n      <th>signer_id</th>\n      <th>followers</th>\n      <th>engagement_weighted_30d</th>\n      <th>activity_weighted_30d</th>\n      <th>louvain_community</th>\n      <th>louvain_size</th>\n      <th>trending_metric</th>\n      <th>rank</th>\n    </tr>\n  </thead>\n  <tbody>\n    <tr>\n      <th>53</th>\n      <td>neardigitalcollective.near</td>\n      <td>55.0</td>\n      <td>108.63</td>\n      <td>3.65</td>\n      <td>4.0</td>\n      <td>308.0</td>\n      <td>29.761644</td>\n      <td>1.0</td>\n    </tr>\n    <tr>\n      <th>14</th>\n      <td>jumpdefisocial.near</td>\n      <td>137.0</td>\n      <td>62.39</td>\n      <td>8.97</td>\n      <td>5.0</td>\n      <td>259.0</td>\n      <td>6.955407</td>\n      <td>1.0</td>\n    </tr>\n    <tr>\n      <th>1</th>\n      <td>root.near</td>\n      <td>393.0</td>\n      <td>242.73</td>\n      <td>36.07</td>\n      <td>1.0</td>\n      <td>572.0</td>\n      <td>6.729415</td>\n      <td>1.0</td>\n    </tr>\n    <tr>\n      <th>36</th>\n      <td>mintbase.near</td>\n      <td>69.0</td>\n      <td>65.71</td>\n      <td>11.25</td>\n      <td>4.0</td>\n      <td>308.0</td>\n      <td>5.840889</td>\n      <td>2.0</td>\n    </tr>\n    <tr>\n      <th>13</th>\n      <td>nearmax.near</td>\n      <td>137.0</td>\n      <td>49.53</td>\n      <td>10.26</td>\n      <td>1.0</td>\n      <td>572.0</td>\n      <td>4.827485</td>\n      <td>2.0</td>\n    </tr>\n    <tr>\n      <th>0</th>\n      <td>auroraecosystemnews.near</td>\n      <td>1161.0</td>\n      <td>617.95</td>\n      <td>181.45</td>\n      <td>0.0</td>\n      <td>960.0</td>\n      <td>3.405621</td>\n      <td>1.0</td>\n    </tr>\n    <tr>\n      <th>65</th>\n      <td>nekosocial.near</td>\n      <td>47.0</td>\n      <td>49.89</td>\n      <td>16.21</td>\n      <td>5.0</td>\n      <td>259.0</td>\n      <td>3.077730</td>\n      <td>2.0</td>\n    </tr>\n    <tr>\n      <th>327</th>\n      <td>nearxartdao.near</td>\n      <td>9.0</td>\n      <td>13.89</td>\n      <td>5.64</td>\n      <td>9.0</td>\n      <td>80.0</td>\n      <td>2.462766</td>\n      <td>1.0</td>\n    </tr>\n    <tr>\n      <th>93</th>\n      <td>mundoaurora.near</td>\n      <td>35.0</td>\n      <td>99.85</td>\n      <td>53.01</td>\n      <td>0.0</td>\n      <td>960.0</td>\n      <td>1.883607</td>\n      <td>2.0</td>\n    </tr>\n    <tr>\n      <th>302</th>\n      <td>moonbasedao.near</td>\n      <td>10.0</td>\n      <td>6.28</td>\n      <td>5.61</td>\n      <td>12.0</td>\n      <td>41.0</td>\n      <td>1.119430</td>\n      <td>1.0</td>\n    </tr>\n    <tr>\n      <th>1113</th>\n      <td>3f165cfc842dd839a00c78d2e7470857ae98e640dc303f...</td>\n      <td>2.0</td>\n      <td>10.92</td>\n      <td>11.26</td>\n      <td>12.0</td>\n      <td>41.0</td>\n      <td>0.969805</td>\n      <td>2.0</td>\n    </tr>\n    <tr>\n      <th>1565</th>\n      <td>capricanna.near</td>\n      <td>1.0</td>\n      <td>9.27</td>\n      <td>11.92</td>\n      <td>8.0</td>\n      <td>117.0</td>\n      <td>0.777685</td>\n      <td>1.0</td>\n    </tr>\n    <tr>\n      <th>223</th>\n      <td>evangel.near</td>\n      <td>15.0</td>\n      <td>19.49</td>\n      <td>25.83</td>\n      <td>7.0</td>\n      <td>167.0</td>\n      <td>0.754549</td>\n      <td>1.0</td>\n    </tr>\n    <tr>\n      <th>512</th>\n      <td>a27c8a37df860773364fd7d1d62c9952910c907f23ecbc...</td>\n      <td>5.0</td>\n      <td>13.23</td>\n      <td>18.31</td>\n      <td>8.0</td>\n      <td>117.0</td>\n      <td>0.722556</td>\n      <td>2.0</td>\n    </tr>\n    <tr>\n      <th>1252</th>\n      <td>davidnvg1511.near</td>\n      <td>1.0</td>\n      <td>2.99</td>\n      <td>4.32</td>\n      <td>10.0</td>\n      <td>73.0</td>\n      <td>0.692130</td>\n      <td>1.0</td>\n    </tr>\n    <tr>\n      <th>1568</th>\n      <td>leanhtuan151191.near</td>\n      <td>1.0</td>\n      <td>2.99</td>\n      <td>4.32</td>\n      <td>3.0</td>\n      <td>398.0</td>\n      <td>0.692130</td>\n      <td>1.0</td>\n    </tr>\n    <tr>\n      <th>391</th>\n      <td>captainphilips.near</td>\n      <td>8.0</td>\n      <td>8.26</td>\n      <td>18.19</td>\n      <td>3.0</td>\n      <td>398.0</td>\n      <td>0.454096</td>\n      <td>2.0</td>\n    </tr>\n    <tr>\n      <th>247</th>\n      <td>verstor212.near</td>\n      <td>13.0</td>\n      <td>16.51</td>\n      <td>38.79</td>\n      <td>10.0</td>\n      <td>73.0</td>\n      <td>0.425625</td>\n      <td>2.0</td>\n    </tr>\n    <tr>\n      <th>775</th>\n      <td>supercoolkay.near</td>\n      <td>3.0</td>\n      <td>0.00</td>\n      <td>6.96</td>\n      <td>9.0</td>\n      <td>80.0</td>\n      <td>0.000000</td>\n      <td>2.0</td>\n    </tr>\n    <tr>\n      <th>12</th>\n      <td>whendacha.near</td>\n      <td>137.0</td>\n      <td>0.00</td>\n      <td>66.66</td>\n      <td>7.0</td>\n      <td>167.0</td>\n      <td>0.000000</td>\n      <td>2.0</td>\n    </tr>\n  </tbody>\n</table>\n</div>",
       "datasetInfos": [],
       "metadata": {},
       "removedWidgets": [],
       "textData": null,
       "type": "htmlSandbox"
      }
     },
     "output_type": "display_data"
    }
   ],
   "source": [
    "# List of Top10 communities by engagement\n",
    "top10coms = list(df.groupby('louvain_community')['engagement_weighted_30d'].sum().sort_values(ascending=False).head(10).index) \n",
    "\n",
    "# List of first user by trending metric in each Top10 communities\n",
    "top10coms_aux = df[['signer_id', \n",
    "                   'followers',\n",
    "                   'engagement_weighted_30d', \n",
    "                   'activity_weighted_30d', \n",
    "                   'louvain_community',\n",
    "                   'louvain_size',\n",
    "                   'trending_metric'\n",
    "                   ]][df['louvain_community'].isin(top10coms)]\n",
    "top10coms_aux['rank'] = top10coms_aux.groupby('louvain_community')['trending_metric'].rank(method='first', ascending=False)\n",
    "top10coms_df = top10coms_aux[top10coms_aux['rank']<3.0].sort_values('trending_metric', ascending=False)\n",
    "top10coms_df"
   ]
  },
  {
   "cell_type": "code",
   "execution_count": 0,
   "metadata": {
    "application/vnd.databricks.v1+cell": {
     "cellMetadata": {
      "byteLimit": 2048000,
      "rowLimit": 10000
     },
     "inputWidgets": {},
     "nuid": "db6fff97-7860-454c-87ac-8ff1c1a5c4fb",
     "showTitle": false,
     "title": ""
    }
   },
   "outputs": [
    {
     "output_type": "stream",
     "name": "stdout",
     "output_type": "stream",
     "text": [
      "['neardigitalcollective.near', 'jumpdefisocial.near', 'root.near', 'auroraecosystemnews.near', 'nearxartdao.near', 'moonbasedao.near', 'capricanna.near', 'evangel.near', 'davidnvg1511.near', 'leanhtuan151191.near']\n"
     ]
    }
   ],
   "source": [
    "print(list(top10coms_df['signer_id']))"
   ]
  },
  {
   "cell_type": "code",
   "execution_count": 0,
   "metadata": {
    "application/vnd.databricks.v1+cell": {
     "cellMetadata": {
      "byteLimit": 2048000,
      "rowLimit": 10000
     },
     "inputWidgets": {},
     "nuid": "4ecb37e3-bfd1-434f-91f2-1a612c66d0a3",
     "showTitle": false,
     "title": ""
    }
   },
   "outputs": [],
   "source": [
    "def n_trending_users(n):\n",
    "    '''Return a random list of n users from the top 20 trending users'''\n",
    "    return random.sample(list(trending_users_df['signer_id']), n)\n",
    "\n",
    "def trending_users_outside_community (user, n):\n",
    "    '''Return a random list of n users from the top 20 trending users in a different community than the input user'''\n",
    "    user_community = df[df['signer_id']==user]['louvain_community'].values[0]\n",
    "    aux_df = trending_users_df[trending_users_df['louvain_community']!=user_community]\n",
    "    return random.sample(list(aux_df['signer_id']), n)\n"
   ]
  },
  {
   "cell_type": "code",
   "execution_count": 0,
   "metadata": {
    "application/vnd.databricks.v1+cell": {
     "cellMetadata": {
      "byteLimit": 2048000,
      "rowLimit": 10000
     },
     "inputWidgets": {},
     "nuid": "a346a74e-fef3-4189-ac43-35a718364ccf",
     "showTitle": false,
     "title": ""
    }
   },
   "outputs": [
    {
     "output_type": "stream",
     "name": "stdout",
     "output_type": "stream",
     "text": [
      "Out[198]: ['nekosocial.near', 'neardigitalcollective.near', 'jumpdefisocial.near']"
     ]
    }
   ],
   "source": [
    "trending_users_outside_community('rojoser.near', 3)"
   ]
  },
  {
   "cell_type": "code",
   "execution_count": 0,
   "metadata": {
    "application/vnd.databricks.v1+cell": {
     "cellMetadata": {
      "byteLimit": 2048000,
      "rowLimit": 10000
     },
     "inputWidgets": {},
     "nuid": "da065e30-f2a0-493d-b609-a4c87be714a2",
     "showTitle": false,
     "title": ""
    }
   },
   "outputs": [
    {
     "output_type": "stream",
     "name": "stdout",
     "output_type": "stream",
     "text": [
      "Out[175]: ['neardigitalcollective.near', 'chefsale.near', 'vlad.near']"
     ]
    }
   ],
   "source": [
    "n_trending_users(3)"
   ]
  }
 ],
 "metadata": {
  "application/vnd.databricks.v1+notebook": {
   "dashboards": [],
   "language": "python",
   "notebookMetadata": {
    "mostRecentlyExecutedCommandWithImplicitDF": {
     "commandId": 2287444748191033,
     "dataframes": [
      "_sqldf"
     ]
    },
    "pythonIndentUnit": 4
   },
   "notebookName": "Trending users",
   "notebookOrigID": 2287444748190796,
   "widgets": {}
  }
 },
 "nbformat": 4,
 "nbformat_minor": 0
}
