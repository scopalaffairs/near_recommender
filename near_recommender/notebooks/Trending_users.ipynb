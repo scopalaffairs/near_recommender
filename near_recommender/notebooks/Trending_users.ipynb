{
 "cells": [
  {
   "cell_type": "markdown",
   "metadata": {
    "application/vnd.databricks.v1+cell": {
     "cellMetadata": {
      "byteLimit": 2048000,
      "rowLimit": 10000
     },
     "inputWidgets": {},
     "nuid": "92d42093-7fbe-4e3a-8f62-c6bbe9d63fe0",
     "showTitle": false,
     "title": ""
    }
   },
   "source": [
    "## Installations and imports"
   ]
  },
  {
   "cell_type": "code",
   "execution_count": 0,
   "metadata": {
    "application/vnd.databricks.v1+cell": {
     "cellMetadata": {
      "byteLimit": 2048000,
      "rowLimit": 10000
     },
     "inputWidgets": {},
     "nuid": "1411b4a0-c853-4adf-b464-fa5920562f5e",
     "showTitle": false,
     "title": ""
    }
   },
   "outputs": [
    {
     "output_type": "stream",
     "name": "stdout",
     "output_type": "stream",
     "text": [
      "Python interpreter will be restarted.\nRequirement already satisfied: scipy in /databricks/python3/lib/python3.9/site-packages (1.7.1)\nCollecting scipy\n  Downloading scipy-1.10.1-cp39-cp39-manylinux_2_17_x86_64.manylinux2014_x86_64.whl (34.5 MB)\nCollecting networkx\n  Downloading networkx-3.1-py3-none-any.whl (2.1 MB)\nCollecting cdlib\n  Downloading cdlib-0.2.6-py3-none-any.whl (228 kB)\nRequirement already satisfied: numpy<1.27.0,>=1.19.5 in /databricks/python3/lib/python3.9/site-packages (from scipy) (1.20.3)\nCollecting pulp\n  Downloading PuLP-2.7.0-py3-none-any.whl (14.3 MB)\nCollecting markov-clustering\n  Downloading markov_clustering-0.0.6.dev0-py3-none-any.whl (6.3 kB)\nRequirement already satisfied: cython in /databricks/python3/lib/python3.9/site-packages (from cdlib) (0.29.24)\nCollecting pyclustering\n  Downloading pyclustering-0.10.1.2.tar.gz (2.6 MB)\nCollecting pooch\n  Downloading pooch-1.7.0-py3-none-any.whl (60 kB)\nCollecting demon\n  Downloading demon-2.0.6-py3-none-any.whl (7.3 kB)\nCollecting future\n  Downloading future-0.18.3.tar.gz (840 kB)\nRequirement already satisfied: matplotlib in /databricks/python3/lib/python3.9/site-packages (from cdlib) (3.4.3)\nCollecting tqdm\n  Downloading tqdm-4.65.0-py3-none-any.whl (77 kB)\nCollecting chinese-whispers\n  Downloading chinese_whispers-0.8.1-py3-none-any.whl (7.8 kB)\nCollecting bimlpa\n  Downloading bimlpa-0.1.2-py3-none-any.whl (7.0 kB)\nCollecting dynetx\n  Downloading dynetx-0.3.1-py3-none-any.whl (39 kB)\nCollecting thresholdclustering\n  Downloading thresholdclustering-1.1-py3-none-any.whl (5.3 kB)\nCollecting eva-lcd\n  Downloading eva_lcd-0.1.1-py3-none-any.whl (9.2 kB)\nCollecting python-louvain>=0.16\n  Downloading python-louvain-0.16.tar.gz (204 kB)\nRequirement already satisfied: pandas in /databricks/python3/lib/python3.9/site-packages (from cdlib) (1.3.4)\nRequirement already satisfied: scikit-learn in /databricks/python3/lib/python3.9/site-packages (from cdlib) (0.24.2)\nCollecting nf1\n  Downloading nf1-0.0.4-py3-none-any.whl (18 kB)\nCollecting python-igraph\n  Downloading python-igraph-0.10.4.tar.gz (9.5 kB)\nCollecting angel-cd\n  Downloading angel_cd-1.0.3-py3-none-any.whl (10 kB)\nRequirement already satisfied: seaborn in /databricks/python3/lib/python3.9/site-packages (from cdlib) (0.11.2)\nCollecting python-Levenshtein\n  Downloading python_Levenshtein-0.21.0-py3-none-any.whl (9.4 kB)\nCollecting networkx\n  Downloading networkx-2.8.8-py3-none-any.whl (2.0 MB)\nRequirement already satisfied: decorator in /databricks/python3/lib/python3.9/site-packages (from dynetx->cdlib) (5.1.0)\nRequirement already satisfied: python-dateutil>=2.7 in /databricks/python3/lib/python3.9/site-packages (from matplotlib->cdlib) (2.8.2)\nRequirement already satisfied: kiwisolver>=1.0.1 in /databricks/python3/lib/python3.9/site-packages (from matplotlib->cdlib) (1.3.1)\nRequirement already satisfied: pyparsing>=2.2.1 in /databricks/python3/lib/python3.9/site-packages (from matplotlib->cdlib) (3.0.4)\nRequirement already satisfied: cycler>=0.10 in /databricks/python3/lib/python3.9/site-packages (from matplotlib->cdlib) (0.10.0)\nRequirement already satisfied: pillow>=6.2.0 in /databricks/python3/lib/python3.9/site-packages (from matplotlib->cdlib) (8.4.0)\nRequirement already satisfied: six in /databricks/python3/lib/python3.9/site-packages (from cycler>=0.10->matplotlib->cdlib) (1.16.0)\nRequirement already satisfied: pytz>=2017.3 in /databricks/python3/lib/python3.9/site-packages (from pandas->cdlib) (2021.3)\nRequirement already satisfied: packaging>=20.0 in /databricks/python3/lib/python3.9/site-packages (from pooch->cdlib) (21.0)\nRequirement already satisfied: platformdirs>=2.5.0 in /usr/local/lib/python3.9/dist-packages (from pooch->cdlib) (2.5.2)\nRequirement already satisfied: requests>=2.19.0 in /databricks/python3/lib/python3.9/site-packages (from pooch->cdlib) (2.26.0)\nRequirement already satisfied: idna<4,>=2.5 in /databricks/python3/lib/python3.9/site-packages (from requests>=2.19.0->pooch->cdlib) (3.2)\nRequirement already satisfied: charset-normalizer~=2.0.0 in /databricks/python3/lib/python3.9/site-packages (from requests>=2.19.0->pooch->cdlib) (2.0.4)\nRequirement already satisfied: urllib3<1.27,>=1.21.1 in /databricks/python3/lib/python3.9/site-packages (from requests>=2.19.0->pooch->cdlib) (1.26.7)\nRequirement already satisfied: certifi>=2017.4.17 in /databricks/python3/lib/python3.9/site-packages (from requests>=2.19.0->pooch->cdlib) (2021.10.8)\nCollecting igraph==0.10.4\n  Downloading igraph-0.10.4-cp39-abi3-manylinux_2_17_x86_64.manylinux2014_x86_64.whl (3.3 MB)\nCollecting texttable>=1.6.2\n  Downloading texttable-1.6.7-py2.py3-none-any.whl (10 kB)\nCollecting Levenshtein==0.21.0\n  Downloading Levenshtein-0.21.0-cp39-cp39-manylinux_2_17_x86_64.manylinux2014_x86_64.whl (175 kB)\nCollecting rapidfuzz<4.0.0,>=2.3.0\n  Downloading rapidfuzz-3.0.0-cp39-cp39-manylinux_2_17_x86_64.manylinux2014_x86_64.whl (3.1 MB)\nRequirement already satisfied: threadpoolctl>=2.0.0 in /databricks/python3/lib/python3.9/site-packages (from scikit-learn->cdlib) (2.2.0)\nRequirement already satisfied: joblib>=0.11 in /databricks/python3/lib/python3.9/site-packages (from scikit-learn->cdlib) (1.0.1)\nBuilding wheels for collected packages: python-louvain, future, pyclustering, python-igraph\n  Building wheel for python-louvain (setup.py): started\n  Building wheel for python-louvain (setup.py): finished with status 'done'\n  Created wheel for python-louvain: filename=python_louvain-0.16-py3-none-any.whl size=9407 sha256=b537dadb1729a09cd9586e4529c0defa623e8c1b967d5b985d5f620e03951687\n  Stored in directory: /root/.cache/pip/wheels/4d/7c/b6/79b198e4ec43f915fbdf967953d48b89a18893b12aa9df0ae2\n  Building wheel for future (setup.py): started\n  Building wheel for future (setup.py): finished with status 'done'\n  Created wheel for future: filename=future-0.18.3-py3-none-any.whl size=492036 sha256=5b1f4a9dd16e4c76a0c530f0ffa8a5dc438eaa1703e9e176e25a81dea69e91bb\n  Stored in directory: /root/.cache/pip/wheels/bf/5d/6a/2e53874f7ec4e2bede522385439531fafec8fafe005b5c3d1b\n  Building wheel for pyclustering (setup.py): started\n  Building wheel for pyclustering (setup.py): finished with status 'done'\n  Created wheel for pyclustering: filename=pyclustering-0.10.1.2-py3-none-any.whl size=2395121 sha256=39d22ca3efb5d681a5698143b4d93159c55159250e88a8d22c76cfec285a35da\n  Stored in directory: /root/.cache/pip/wheels/e0/56/c2/abb6866a3fcd8a55862f1df8a18f57805c3a78fed9a9023cb9\n  Building wheel for python-igraph (setup.py): started\n  Building wheel for python-igraph (setup.py): finished with status 'done'\n  Created wheel for python-igraph: filename=python_igraph-0.10.4-py3-none-any.whl size=9076 sha256=f54be4198226d928626b099b2978c87daed51ff528a513719714a0826a010d83\n  Stored in directory: /root/.cache/pip/wheels/dc/07/ac/bff79052fd6222d1239b228cd24a47222f227c2350f9c4df01\nSuccessfully built python-louvain future pyclustering python-igraph\nInstalling collected packages: texttable, scipy, rapidfuzz, igraph, tqdm, python-igraph, networkx, Levenshtein, future, thresholdclustering, python-louvain, python-Levenshtein, pyclustering, pulp, pooch, nf1, markov-clustering, eva-lcd, dynetx, demon, chinese-whispers, bimlpa, angel-cd, cdlib\n  Attempting uninstall: scipy\n    Found existing installation: scipy 1.7.1\n    Not uninstalling scipy at /databricks/python3/lib/python3.9/site-packages, outside environment /local_disk0/.ephemeral_nfs/envs/pythonEnv-95c4b9a0-6b4f-47c4-a584-a103a563ec9a\n    Can't uninstall 'scipy'. No files were found to uninstall.\nSuccessfully installed Levenshtein-0.21.0 angel-cd-1.0.3 bimlpa-0.1.2 cdlib-0.2.6 chinese-whispers-0.8.1 demon-2.0.6 dynetx-0.3.1 eva-lcd-0.1.1 future-0.18.3 igraph-0.10.4 markov-clustering-0.0.6.dev0 networkx-2.8.8 nf1-0.0.4 pooch-1.7.0 pulp-2.7.0 pyclustering-0.10.1.2 python-Levenshtein-0.21.0 python-igraph-0.10.4 python-louvain-0.16 rapidfuzz-3.0.0 scipy-1.10.1 texttable-1.6.7 thresholdclustering-1.1 tqdm-4.65.0\nPython interpreter will be restarted.\n"
     ]
    }
   ],
   "source": [
    "%pip install --upgrade scipy networkx cdlib"
   ]
  },
  {
   "cell_type": "code",
   "execution_count": 0,
   "metadata": {
    "application/vnd.databricks.v1+cell": {
     "cellMetadata": {
      "byteLimit": 2048000,
      "rowLimit": 10000
     },
     "inputWidgets": {},
     "nuid": "e06c9dd2-b64d-497a-8c3d-b1dfedb1e64c",
     "showTitle": false,
     "title": ""
    }
   },
   "outputs": [
    {
     "output_type": "display_data",
     "data": {
      "application/vnd.databricks.v1+bamboolib_hint": "{\"pd.DataFrames\": [], \"version\": \"0.0.1\"}",
      "text/plain": []
     },
     "metadata": {},
     "output_type": "display_data"
    },
    {
     "output_type": "stream",
     "name": "stdout",
     "output_type": "stream",
     "text": [
      "Note: to be able to use all crisp methods, you need to install some additional packages:  {'infomap', 'karateclub', 'wurlitzer', 'leidenalg', 'graph_tool'}\nNote: to be able to use all overlapping methods, you need to install some additional packages:  {'karateclub', 'ASLPAw'}\nNote: to be able to use all bipartite methods, you need to install some additional packages:  {'wurlitzer', 'leidenalg', 'infomap'}\n"
     ]
    }
   ],
   "source": [
    "import pandas as pd\n",
    "import numpy as np\n",
    "import networkx as nx\n",
    "import matplotlib.pyplot as plt\n",
    "from cdlib import algorithms\n",
    "import random"
   ]
  },
  {
   "cell_type": "markdown",
   "metadata": {
    "application/vnd.databricks.v1+cell": {
     "cellMetadata": {
      "byteLimit": 2048000,
      "rowLimit": 10000
     },
     "inputWidgets": {},
     "nuid": "0bdebc51-0056-4924-bb1f-053e0850676b",
     "showTitle": false,
     "title": ""
    }
   },
   "source": [
    "## Graphs"
   ]
  },
  {
   "cell_type": "code",
   "execution_count": 0,
   "metadata": {
    "application/vnd.databricks.v1+cell": {
     "cellMetadata": {
      "byteLimit": 2048000,
      "rowLimit": 10000
     },
     "inputWidgets": {},
     "nuid": "2fe8051c-2b16-44f3-83a9-54cd043a1ae9",
     "showTitle": false,
     "title": ""
    }
   },
   "outputs": [],
   "source": [
    "# Load SQL tables as DF\n",
    "follows_df = spark.sql('SELECT signer_id, follows, type FROM hive_metastore.sit.graph_follows').toPandas()\n",
    "metrics_df = spark.sql('SELECT * FROM hive_metastore.sit.users_agg_metrics').toPandas().fillna(0)\n",
    "\n",
    "# Define Graphs from follows/likes DF\n",
    "G_follows = nx.from_pandas_edgelist(follows_df[follows_df['type']=='FOLLOW'], source='signer_id', target='follows')#, edge_attr=['type'])   #97% of actions are FOLLOWS\n",
    "\n",
    "# Communities Detection\n",
    "louvain_follows = algorithms.louvain(G_follows, weight='weight', resolution=1., randomize=False)\n",
    "walktrap_follows = algorithms.walktrap(G_follows)\n"
   ]
  },
  {
   "cell_type": "code",
   "execution_count": 0,
   "metadata": {
    "application/vnd.databricks.v1+cell": {
     "cellMetadata": {
      "byteLimit": 2048000,
      "rowLimit": 10000
     },
     "inputWidgets": {},
     "nuid": "37e264c0-b4d3-44ba-a707-32123c2dd9e0",
     "showTitle": false,
     "title": ""
    }
   },
   "outputs": [
    {
     "output_type": "stream",
     "name": "stdout",
     "output_type": "stream",
     "text": [
      "Out[3]: (8357, 37)"
     ]
    }
   ],
   "source": [
    "if louvain_follows.overlap == False:\n",
    "    # Map Louvain follows communities to users\n",
    "    lf_dict = {'signer_id': [], 'louvain_community': []}\n",
    "    for i, community in enumerate(louvain_follows.communities):\n",
    "        for user in community:\n",
    "            lf_dict['signer_id'].append(user)\n",
    "            lf_dict['louvain_community'].append(i)\n",
    "\n",
    "    # Create a pandas dataframe from the data dictionary\n",
    "    lf_df = pd.DataFrame(lf_dict)\n",
    "\n",
    "if walktrap_follows.overlap == False:\n",
    "    # Map Louvain follows communities to users\n",
    "    wt_dict = {'signer_id': [], 'walktrap_community': []}\n",
    "    for i, community in enumerate(walktrap_follows.communities):\n",
    "        for user in community:\n",
    "            wt_dict['signer_id'].append(user)\n",
    "            wt_dict['walktrap_community'].append(i)\n",
    "\n",
    "    # Create a pandas dataframe from the data dictionary\n",
    "    wt_df = pd.DataFrame(wt_dict)\n",
    "\n",
    "lcom_size_dict = dict(lf_df['louvain_community'].value_counts())\n",
    "wtcom_size_dict = dict(wt_df['walktrap_community'].value_counts())\n",
    "\n",
    "communities_df = pd.merge(lf_df, wt_df, on='signer_id')\n",
    "communities_df['louvain_size'] = communities_df['louvain_community'].apply(lambda x: lcom_size_dict[x])\n",
    "communities_df['walktrap_size'] = communities_df['walktrap_community'].apply(lambda x: wtcom_size_dict[x])\n",
    "\n",
    "df = pd.merge(metrics_df, communities_df, on='signer_id', how='left')\n",
    "df.shape"
   ]
  },
  {
   "cell_type": "markdown",
   "metadata": {
    "application/vnd.databricks.v1+cell": {
     "cellMetadata": {
      "byteLimit": 2048000,
      "rowLimit": 10000
     },
     "inputWidgets": {},
     "nuid": "646bbf9b-929b-40cc-a6c7-45b7930830ac",
     "showTitle": false,
     "title": ""
    }
   },
   "source": [
    "## Top 20 Trending users"
   ]
  },
  {
   "cell_type": "code",
   "execution_count": 0,
   "metadata": {
    "application/vnd.databricks.v1+cell": {
     "cellMetadata": {
      "byteLimit": 2048000,
      "rowLimit": 10000
     },
     "inputWidgets": {},
     "nuid": "7f46bcf2-040d-481e-a8f1-5a32071376a8",
     "showTitle": false,
     "title": ""
    }
   },
   "outputs": [
    {
     "output_type": "display_data",
     "data": {
      "text/html": [
       "<div>\n",
       "<style scoped>\n",
       "    .dataframe tbody tr th:only-of-type {\n",
       "        vertical-align: middle;\n",
       "    }\n",
       "\n",
       "    .dataframe tbody tr th {\n",
       "        vertical-align: top;\n",
       "    }\n",
       "\n",
       "    .dataframe thead th {\n",
       "        text-align: right;\n",
       "    }\n",
       "</style>\n",
       "<table border=\"1\" class=\"dataframe\">\n",
       "  <thead>\n",
       "    <tr style=\"text-align: right;\">\n",
       "      <th></th>\n",
       "      <th>user_name</th>\n",
       "      <th>followers</th>\n",
       "      <th>trending_metric</th>\n",
       "      <th>com_ID</th>\n",
       "    </tr>\n",
       "  </thead>\n",
       "  <tbody>\n",
       "    <tr>\n",
       "      <th>1</th>\n",
       "      <td>marieke.near</td>\n",
       "      <td>173</td>\n",
       "      <td>3.130435</td>\n",
       "      <td>2</td>\n",
       "    </tr>\n",
       "    <tr>\n",
       "      <th>2</th>\n",
       "      <td>microchipgnu.near</td>\n",
       "      <td>109</td>\n",
       "      <td>3.011236</td>\n",
       "      <td>3</td>\n",
       "    </tr>\n",
       "    <tr>\n",
       "      <th>3</th>\n",
       "      <td>near-nigeria.near</td>\n",
       "      <td>19</td>\n",
       "      <td>2.159420</td>\n",
       "      <td>11</td>\n",
       "    </tr>\n",
       "    <tr>\n",
       "      <th>4</th>\n",
       "      <td>calimero.near</td>\n",
       "      <td>12</td>\n",
       "      <td>2.089286</td>\n",
       "      <td>2</td>\n",
       "    </tr>\n",
       "    <tr>\n",
       "      <th>5</th>\n",
       "      <td>nearukraineguild.near</td>\n",
       "      <td>21</td>\n",
       "      <td>2.021739</td>\n",
       "      <td>3</td>\n",
       "    </tr>\n",
       "    <tr>\n",
       "      <th>6</th>\n",
       "      <td>partners.learnclub.near</td>\n",
       "      <td>151</td>\n",
       "      <td>1.841121</td>\n",
       "      <td>10</td>\n",
       "    </tr>\n",
       "    <tr>\n",
       "      <th>7</th>\n",
       "      <td>shemar268abel.near</td>\n",
       "      <td>4</td>\n",
       "      <td>1.780000</td>\n",
       "      <td>3</td>\n",
       "    </tr>\n",
       "    <tr>\n",
       "      <th>8</th>\n",
       "      <td>yamirghofran.near</td>\n",
       "      <td>1</td>\n",
       "      <td>1.529412</td>\n",
       "      <td>6</td>\n",
       "    </tr>\n",
       "    <tr>\n",
       "      <th>9</th>\n",
       "      <td>kemo.near</td>\n",
       "      <td>12</td>\n",
       "      <td>1.500000</td>\n",
       "      <td>3</td>\n",
       "    </tr>\n",
       "    <tr>\n",
       "      <th>10</th>\n",
       "      <td>mxjxn.near</td>\n",
       "      <td>9</td>\n",
       "      <td>1.431818</td>\n",
       "      <td>3</td>\n",
       "    </tr>\n",
       "    <tr>\n",
       "      <th>11</th>\n",
       "      <td>mob.near</td>\n",
       "      <td>260</td>\n",
       "      <td>1.369565</td>\n",
       "      <td>2</td>\n",
       "    </tr>\n",
       "    <tr>\n",
       "      <th>12</th>\n",
       "      <td>vlad.near</td>\n",
       "      <td>127</td>\n",
       "      <td>1.328571</td>\n",
       "      <td>2</td>\n",
       "    </tr>\n",
       "    <tr>\n",
       "      <th>13</th>\n",
       "      <td>nfcommunity.near</td>\n",
       "      <td>32</td>\n",
       "      <td>1.231111</td>\n",
       "      <td>2</td>\n",
       "    </tr>\n",
       "    <tr>\n",
       "      <th>14</th>\n",
       "      <td>nathanx.near</td>\n",
       "      <td>5</td>\n",
       "      <td>1.209677</td>\n",
       "      <td>3</td>\n",
       "    </tr>\n",
       "    <tr>\n",
       "      <th>15</th>\n",
       "      <td>ihyshan.near</td>\n",
       "      <td>3</td>\n",
       "      <td>1.203390</td>\n",
       "      <td>3</td>\n",
       "    </tr>\n",
       "    <tr>\n",
       "      <th>16</th>\n",
       "      <td>meta-pool-official.near</td>\n",
       "      <td>106</td>\n",
       "      <td>1.182390</td>\n",
       "      <td>3</td>\n",
       "    </tr>\n",
       "    <tr>\n",
       "      <th>17</th>\n",
       "      <td>petersalomonsen.near</td>\n",
       "      <td>67</td>\n",
       "      <td>1.090909</td>\n",
       "      <td>2</td>\n",
       "    </tr>\n",
       "    <tr>\n",
       "      <th>18</th>\n",
       "      <td>web3client.near</td>\n",
       "      <td>11</td>\n",
       "      <td>1.053812</td>\n",
       "      <td>2</td>\n",
       "    </tr>\n",
       "    <tr>\n",
       "      <th>19</th>\n",
       "      <td>heyw00d.near</td>\n",
       "      <td>9</td>\n",
       "      <td>1.000000</td>\n",
       "      <td>2</td>\n",
       "    </tr>\n",
       "    <tr>\n",
       "      <th>20</th>\n",
       "      <td>mundoaurora.near</td>\n",
       "      <td>44</td>\n",
       "      <td>0.925703</td>\n",
       "      <td>0</td>\n",
       "    </tr>\n",
       "  </tbody>\n",
       "</table>\n",
       "</div>"
      ]
     },
     "metadata": {
      "application/vnd.databricks.v1+output": {
       "addedWidgets": {},
       "arguments": {},
       "data": "<div>\n<style scoped>\n    .dataframe tbody tr th:only-of-type {\n        vertical-align: middle;\n    }\n\n    .dataframe tbody tr th {\n        vertical-align: top;\n    }\n\n    .dataframe thead th {\n        text-align: right;\n    }\n</style>\n<table border=\"1\" class=\"dataframe\">\n  <thead>\n    <tr style=\"text-align: right;\">\n      <th></th>\n      <th>user_name</th>\n      <th>followers</th>\n      <th>trending_metric</th>\n      <th>com_ID</th>\n    </tr>\n  </thead>\n  <tbody>\n    <tr>\n      <th>1</th>\n      <td>marieke.near</td>\n      <td>173</td>\n      <td>3.130435</td>\n      <td>2</td>\n    </tr>\n    <tr>\n      <th>2</th>\n      <td>microchipgnu.near</td>\n      <td>109</td>\n      <td>3.011236</td>\n      <td>3</td>\n    </tr>\n    <tr>\n      <th>3</th>\n      <td>near-nigeria.near</td>\n      <td>19</td>\n      <td>2.159420</td>\n      <td>11</td>\n    </tr>\n    <tr>\n      <th>4</th>\n      <td>calimero.near</td>\n      <td>12</td>\n      <td>2.089286</td>\n      <td>2</td>\n    </tr>\n    <tr>\n      <th>5</th>\n      <td>nearukraineguild.near</td>\n      <td>21</td>\n      <td>2.021739</td>\n      <td>3</td>\n    </tr>\n    <tr>\n      <th>6</th>\n      <td>partners.learnclub.near</td>\n      <td>151</td>\n      <td>1.841121</td>\n      <td>10</td>\n    </tr>\n    <tr>\n      <th>7</th>\n      <td>shemar268abel.near</td>\n      <td>4</td>\n      <td>1.780000</td>\n      <td>3</td>\n    </tr>\n    <tr>\n      <th>8</th>\n      <td>yamirghofran.near</td>\n      <td>1</td>\n      <td>1.529412</td>\n      <td>6</td>\n    </tr>\n    <tr>\n      <th>9</th>\n      <td>kemo.near</td>\n      <td>12</td>\n      <td>1.500000</td>\n      <td>3</td>\n    </tr>\n    <tr>\n      <th>10</th>\n      <td>mxjxn.near</td>\n      <td>9</td>\n      <td>1.431818</td>\n      <td>3</td>\n    </tr>\n    <tr>\n      <th>11</th>\n      <td>mob.near</td>\n      <td>260</td>\n      <td>1.369565</td>\n      <td>2</td>\n    </tr>\n    <tr>\n      <th>12</th>\n      <td>vlad.near</td>\n      <td>127</td>\n      <td>1.328571</td>\n      <td>2</td>\n    </tr>\n    <tr>\n      <th>13</th>\n      <td>nfcommunity.near</td>\n      <td>32</td>\n      <td>1.231111</td>\n      <td>2</td>\n    </tr>\n    <tr>\n      <th>14</th>\n      <td>nathanx.near</td>\n      <td>5</td>\n      <td>1.209677</td>\n      <td>3</td>\n    </tr>\n    <tr>\n      <th>15</th>\n      <td>ihyshan.near</td>\n      <td>3</td>\n      <td>1.203390</td>\n      <td>3</td>\n    </tr>\n    <tr>\n      <th>16</th>\n      <td>meta-pool-official.near</td>\n      <td>106</td>\n      <td>1.182390</td>\n      <td>3</td>\n    </tr>\n    <tr>\n      <th>17</th>\n      <td>petersalomonsen.near</td>\n      <td>67</td>\n      <td>1.090909</td>\n      <td>2</td>\n    </tr>\n    <tr>\n      <th>18</th>\n      <td>web3client.near</td>\n      <td>11</td>\n      <td>1.053812</td>\n      <td>2</td>\n    </tr>\n    <tr>\n      <th>19</th>\n      <td>heyw00d.near</td>\n      <td>9</td>\n      <td>1.000000</td>\n      <td>2</td>\n    </tr>\n    <tr>\n      <th>20</th>\n      <td>mundoaurora.near</td>\n      <td>44</td>\n      <td>0.925703</td>\n      <td>0</td>\n    </tr>\n  </tbody>\n</table>\n</div>",
       "datasetInfos": [],
       "metadata": {},
       "removedWidgets": [],
       "textData": null,
       "type": "htmlSandbox"
      }
     },
     "output_type": "display_data"
    }
   ],
   "source": [
    "df['trending_metric'] = (df['engagement_weighted_30d'])/df['activity_weighted_30d']\n",
    "trending_users_df = df[['signer_id', \n",
    "                        'followers',\n",
    "                        'trending_metric',\n",
    "                        #'engagement_weighted_30d', \n",
    "                        #'activity_weighted_30d', \n",
    "                        'louvain_community'\n",
    "                        ]].sort_values('trending_metric', ascending=False).head(20).reset_index(drop=True)\n",
    "trending_users_df['followers'] = trending_users_df['followers'].apply(int)\n",
    "trending_users_df['louvain_community'] = trending_users_df['louvain_community'].apply(int)\n",
    "#trending_users_df['trending_metric'] = trending_users_df['trending_metric'].apply(round)\n",
    "trending_users_df.index = trending_users_df.index + 1\n",
    "trending_users_df.rename(columns={'signer_id': 'user_name', 'louvain_community': 'com_ID'}, inplace=True)\n",
    "trending_users_df"
   ]
  },
  {
   "cell_type": "code",
   "execution_count": 0,
   "metadata": {
    "application/vnd.databricks.v1+cell": {
     "cellMetadata": {
      "byteLimit": 2048000,
      "rowLimit": 10000
     },
     "inputWidgets": {},
     "nuid": "fa8bf8db-fb47-4fa0-bcd4-760130eba4e2",
     "showTitle": false,
     "title": ""
    }
   },
   "outputs": [
    {
     "output_type": "display_data",
     "data": {
      "text/html": [
       "<div>\n",
       "<style scoped>\n",
       "    .dataframe tbody tr th:only-of-type {\n",
       "        vertical-align: middle;\n",
       "    }\n",
       "\n",
       "    .dataframe tbody tr th {\n",
       "        vertical-align: top;\n",
       "    }\n",
       "\n",
       "    .dataframe thead th {\n",
       "        text-align: right;\n",
       "    }\n",
       "</style>\n",
       "<table border=\"1\" class=\"dataframe\">\n",
       "  <thead>\n",
       "    <tr style=\"text-align: right;\">\n",
       "      <th></th>\n",
       "      <th>user_name</th>\n",
       "      <th>followers</th>\n",
       "      <th>trending_metric</th>\n",
       "      <th>com_ID</th>\n",
       "      <th>com_name</th>\n",
       "    </tr>\n",
       "  </thead>\n",
       "  <tbody>\n",
       "    <tr>\n",
       "      <th>1</th>\n",
       "      <td>marieke.near</td>\n",
       "      <td>173</td>\n",
       "      <td>3.130435</td>\n",
       "      <td>2</td>\n",
       "      <td>Core Devs</td>\n",
       "    </tr>\n",
       "    <tr>\n",
       "      <th>2</th>\n",
       "      <td>microchipgnu.near</td>\n",
       "      <td>109</td>\n",
       "      <td>3.011236</td>\n",
       "      <td>3</td>\n",
       "      <td>Near Ukraine</td>\n",
       "    </tr>\n",
       "    <tr>\n",
       "      <th>3</th>\n",
       "      <td>near-nigeria.near</td>\n",
       "      <td>19</td>\n",
       "      <td>2.159420</td>\n",
       "      <td>11</td>\n",
       "      <td>Near Nigeria</td>\n",
       "    </tr>\n",
       "    <tr>\n",
       "      <th>4</th>\n",
       "      <td>calimero.near</td>\n",
       "      <td>12</td>\n",
       "      <td>2.089286</td>\n",
       "      <td>2</td>\n",
       "      <td>Core Devs</td>\n",
       "    </tr>\n",
       "    <tr>\n",
       "      <th>5</th>\n",
       "      <td>nearukraineguild.near</td>\n",
       "      <td>21</td>\n",
       "      <td>2.021739</td>\n",
       "      <td>3</td>\n",
       "      <td>Near Ukraine</td>\n",
       "    </tr>\n",
       "    <tr>\n",
       "      <th>6</th>\n",
       "      <td>partners.learnclub.near</td>\n",
       "      <td>151</td>\n",
       "      <td>1.841121</td>\n",
       "      <td>10</td>\n",
       "      <td>Learn Near Club</td>\n",
       "    </tr>\n",
       "    <tr>\n",
       "      <th>7</th>\n",
       "      <td>shemar268abel.near</td>\n",
       "      <td>4</td>\n",
       "      <td>1.780000</td>\n",
       "      <td>3</td>\n",
       "      <td>Near Ukraine</td>\n",
       "    </tr>\n",
       "    <tr>\n",
       "      <th>8</th>\n",
       "      <td>yamirghofran.near</td>\n",
       "      <td>1</td>\n",
       "      <td>1.529412</td>\n",
       "      <td>6</td>\n",
       "      <td>Amirghofran</td>\n",
       "    </tr>\n",
       "    <tr>\n",
       "      <th>9</th>\n",
       "      <td>kemo.near</td>\n",
       "      <td>12</td>\n",
       "      <td>1.500000</td>\n",
       "      <td>3</td>\n",
       "      <td>Near Ukraine</td>\n",
       "    </tr>\n",
       "    <tr>\n",
       "      <th>10</th>\n",
       "      <td>mxjxn.near</td>\n",
       "      <td>9</td>\n",
       "      <td>1.431818</td>\n",
       "      <td>3</td>\n",
       "      <td>Near Ukraine</td>\n",
       "    </tr>\n",
       "    <tr>\n",
       "      <th>11</th>\n",
       "      <td>mob.near</td>\n",
       "      <td>260</td>\n",
       "      <td>1.369565</td>\n",
       "      <td>2</td>\n",
       "      <td>Core Devs</td>\n",
       "    </tr>\n",
       "    <tr>\n",
       "      <th>12</th>\n",
       "      <td>vlad.near</td>\n",
       "      <td>127</td>\n",
       "      <td>1.328571</td>\n",
       "      <td>2</td>\n",
       "      <td>Core Devs</td>\n",
       "    </tr>\n",
       "    <tr>\n",
       "      <th>13</th>\n",
       "      <td>nfcommunity.near</td>\n",
       "      <td>32</td>\n",
       "      <td>1.231111</td>\n",
       "      <td>2</td>\n",
       "      <td>Core Devs</td>\n",
       "    </tr>\n",
       "    <tr>\n",
       "      <th>14</th>\n",
       "      <td>nathanx.near</td>\n",
       "      <td>5</td>\n",
       "      <td>1.209677</td>\n",
       "      <td>3</td>\n",
       "      <td>Near Ukraine</td>\n",
       "    </tr>\n",
       "    <tr>\n",
       "      <th>15</th>\n",
       "      <td>ihyshan.near</td>\n",
       "      <td>3</td>\n",
       "      <td>1.203390</td>\n",
       "      <td>3</td>\n",
       "      <td>Near Ukraine</td>\n",
       "    </tr>\n",
       "    <tr>\n",
       "      <th>16</th>\n",
       "      <td>meta-pool-official.near</td>\n",
       "      <td>106</td>\n",
       "      <td>1.182390</td>\n",
       "      <td>3</td>\n",
       "      <td>Near Ukraine</td>\n",
       "    </tr>\n",
       "    <tr>\n",
       "      <th>17</th>\n",
       "      <td>petersalomonsen.near</td>\n",
       "      <td>67</td>\n",
       "      <td>1.090909</td>\n",
       "      <td>2</td>\n",
       "      <td>Core Devs</td>\n",
       "    </tr>\n",
       "    <tr>\n",
       "      <th>18</th>\n",
       "      <td>web3client.near</td>\n",
       "      <td>11</td>\n",
       "      <td>1.053812</td>\n",
       "      <td>2</td>\n",
       "      <td>Core Devs</td>\n",
       "    </tr>\n",
       "    <tr>\n",
       "      <th>19</th>\n",
       "      <td>heyw00d.near</td>\n",
       "      <td>9</td>\n",
       "      <td>1.000000</td>\n",
       "      <td>2</td>\n",
       "      <td>Core Devs</td>\n",
       "    </tr>\n",
       "    <tr>\n",
       "      <th>20</th>\n",
       "      <td>mundoaurora.near</td>\n",
       "      <td>44</td>\n",
       "      <td>0.925703</td>\n",
       "      <td>0</td>\n",
       "      <td>Aurora Network</td>\n",
       "    </tr>\n",
       "  </tbody>\n",
       "</table>\n",
       "</div>"
      ]
     },
     "metadata": {
      "application/vnd.databricks.v1+output": {
       "addedWidgets": {},
       "arguments": {},
       "data": "<div>\n<style scoped>\n    .dataframe tbody tr th:only-of-type {\n        vertical-align: middle;\n    }\n\n    .dataframe tbody tr th {\n        vertical-align: top;\n    }\n\n    .dataframe thead th {\n        text-align: right;\n    }\n</style>\n<table border=\"1\" class=\"dataframe\">\n  <thead>\n    <tr style=\"text-align: right;\">\n      <th></th>\n      <th>user_name</th>\n      <th>followers</th>\n      <th>trending_metric</th>\n      <th>com_ID</th>\n      <th>com_name</th>\n    </tr>\n  </thead>\n  <tbody>\n    <tr>\n      <th>1</th>\n      <td>marieke.near</td>\n      <td>173</td>\n      <td>3.130435</td>\n      <td>2</td>\n      <td>Core Devs</td>\n    </tr>\n    <tr>\n      <th>2</th>\n      <td>microchipgnu.near</td>\n      <td>109</td>\n      <td>3.011236</td>\n      <td>3</td>\n      <td>Near Ukraine</td>\n    </tr>\n    <tr>\n      <th>3</th>\n      <td>near-nigeria.near</td>\n      <td>19</td>\n      <td>2.159420</td>\n      <td>11</td>\n      <td>Near Nigeria</td>\n    </tr>\n    <tr>\n      <th>4</th>\n      <td>calimero.near</td>\n      <td>12</td>\n      <td>2.089286</td>\n      <td>2</td>\n      <td>Core Devs</td>\n    </tr>\n    <tr>\n      <th>5</th>\n      <td>nearukraineguild.near</td>\n      <td>21</td>\n      <td>2.021739</td>\n      <td>3</td>\n      <td>Near Ukraine</td>\n    </tr>\n    <tr>\n      <th>6</th>\n      <td>partners.learnclub.near</td>\n      <td>151</td>\n      <td>1.841121</td>\n      <td>10</td>\n      <td>Learn Near Club</td>\n    </tr>\n    <tr>\n      <th>7</th>\n      <td>shemar268abel.near</td>\n      <td>4</td>\n      <td>1.780000</td>\n      <td>3</td>\n      <td>Near Ukraine</td>\n    </tr>\n    <tr>\n      <th>8</th>\n      <td>yamirghofran.near</td>\n      <td>1</td>\n      <td>1.529412</td>\n      <td>6</td>\n      <td>Amirghofran</td>\n    </tr>\n    <tr>\n      <th>9</th>\n      <td>kemo.near</td>\n      <td>12</td>\n      <td>1.500000</td>\n      <td>3</td>\n      <td>Near Ukraine</td>\n    </tr>\n    <tr>\n      <th>10</th>\n      <td>mxjxn.near</td>\n      <td>9</td>\n      <td>1.431818</td>\n      <td>3</td>\n      <td>Near Ukraine</td>\n    </tr>\n    <tr>\n      <th>11</th>\n      <td>mob.near</td>\n      <td>260</td>\n      <td>1.369565</td>\n      <td>2</td>\n      <td>Core Devs</td>\n    </tr>\n    <tr>\n      <th>12</th>\n      <td>vlad.near</td>\n      <td>127</td>\n      <td>1.328571</td>\n      <td>2</td>\n      <td>Core Devs</td>\n    </tr>\n    <tr>\n      <th>13</th>\n      <td>nfcommunity.near</td>\n      <td>32</td>\n      <td>1.231111</td>\n      <td>2</td>\n      <td>Core Devs</td>\n    </tr>\n    <tr>\n      <th>14</th>\n      <td>nathanx.near</td>\n      <td>5</td>\n      <td>1.209677</td>\n      <td>3</td>\n      <td>Near Ukraine</td>\n    </tr>\n    <tr>\n      <th>15</th>\n      <td>ihyshan.near</td>\n      <td>3</td>\n      <td>1.203390</td>\n      <td>3</td>\n      <td>Near Ukraine</td>\n    </tr>\n    <tr>\n      <th>16</th>\n      <td>meta-pool-official.near</td>\n      <td>106</td>\n      <td>1.182390</td>\n      <td>3</td>\n      <td>Near Ukraine</td>\n    </tr>\n    <tr>\n      <th>17</th>\n      <td>petersalomonsen.near</td>\n      <td>67</td>\n      <td>1.090909</td>\n      <td>2</td>\n      <td>Core Devs</td>\n    </tr>\n    <tr>\n      <th>18</th>\n      <td>web3client.near</td>\n      <td>11</td>\n      <td>1.053812</td>\n      <td>2</td>\n      <td>Core Devs</td>\n    </tr>\n    <tr>\n      <th>19</th>\n      <td>heyw00d.near</td>\n      <td>9</td>\n      <td>1.000000</td>\n      <td>2</td>\n      <td>Core Devs</td>\n    </tr>\n    <tr>\n      <th>20</th>\n      <td>mundoaurora.near</td>\n      <td>44</td>\n      <td>0.925703</td>\n      <td>0</td>\n      <td>Aurora Network</td>\n    </tr>\n  </tbody>\n</table>\n</div>",
       "datasetInfos": [],
       "metadata": {},
       "removedWidgets": [],
       "textData": null,
       "type": "htmlSandbox"
      }
     },
     "output_type": "display_data"
    }
   ],
   "source": [
    "# Identify Communitites by name\n",
    "id_to_name = {0.0: 'Aurora Network',\n",
    "              2.0: 'Core Devs',\n",
    "              3.0: 'Near Ukraine',\n",
    "              5.0: 'Near Foundation',\n",
    "              8.0: 'NearXArt Dao',\n",
    "              10.0: 'Learn Near Club',\n",
    "              11.0: 'Near Nigeria',\n",
    "              6.0: 'Amirghofran'}\n",
    "\n",
    "# Apply name df\n",
    "trending_users_df['com_name'] = trending_users_df['com_ID'].map(id_to_name)\n",
    "trending_users_df"
   ]
  },
  {
   "cell_type": "code",
   "execution_count": 0,
   "metadata": {
    "application/vnd.databricks.v1+cell": {
     "cellMetadata": {
      "byteLimit": 2048000,
      "rowLimit": 10000
     },
     "inputWidgets": {},
     "nuid": "a6fabd9a-b213-4a2c-8793-12b630566549",
     "showTitle": false,
     "title": ""
    }
   },
   "outputs": [
    {
     "output_type": "display_data",
     "data": {
      "text/html": [
       "<style scoped>\n",
       "  .table-result-container {\n",
       "    max-height: 300px;\n",
       "    overflow: auto;\n",
       "  }\n",
       "  table, th, td {\n",
       "    border: 1px solid black;\n",
       "    border-collapse: collapse;\n",
       "  }\n",
       "  th, td {\n",
       "    padding: 5px;\n",
       "  }\n",
       "  th {\n",
       "    text-align: left;\n",
       "  }\n",
       "</style><div class='table-result-container'><table class='table-result'><thead style='background-color: white'><tr><th>user_name</th><th>followers</th><th>trending_metric</th><th>com_ID</th><th>com_name</th></tr></thead><tbody><tr><td>marieke.near</td><td>173</td><td>3.130434782608696</td><td>2</td><td>Core Devs</td></tr><tr><td>microchipgnu.near</td><td>109</td><td>3.0112359550561796</td><td>3</td><td>Near Ukraine</td></tr><tr><td>near-nigeria.near</td><td>19</td><td>2.1594202898550723</td><td>11</td><td>Near Nigeria</td></tr><tr><td>calimero.near</td><td>12</td><td>2.0892857142857144</td><td>2</td><td>Core Devs</td></tr><tr><td>nearukraineguild.near</td><td>21</td><td>2.0217391304347827</td><td>3</td><td>Near Ukraine</td></tr><tr><td>partners.learnclub.near</td><td>151</td><td>1.841121495327103</td><td>10</td><td>Learn Near Club</td></tr><tr><td>shemar268abel.near</td><td>4</td><td>1.78</td><td>3</td><td>Near Ukraine</td></tr><tr><td>yamirghofran.near</td><td>1</td><td>1.5294117647058825</td><td>6</td><td>Amirghofran</td></tr><tr><td>kemo.near</td><td>12</td><td>1.5</td><td>3</td><td>Near Ukraine</td></tr><tr><td>mxjxn.near</td><td>9</td><td>1.4318181818181817</td><td>3</td><td>Near Ukraine</td></tr><tr><td>mob.near</td><td>260</td><td>1.3695652173913044</td><td>2</td><td>Core Devs</td></tr><tr><td>vlad.near</td><td>127</td><td>1.3285714285714287</td><td>2</td><td>Core Devs</td></tr><tr><td>nfcommunity.near</td><td>32</td><td>1.231111111111111</td><td>2</td><td>Core Devs</td></tr><tr><td>nathanx.near</td><td>5</td><td>1.2096774193548387</td><td>3</td><td>Near Ukraine</td></tr><tr><td>ihyshan.near</td><td>3</td><td>1.2033898305084745</td><td>3</td><td>Near Ukraine</td></tr><tr><td>meta-pool-official.near</td><td>106</td><td>1.1823899371069182</td><td>3</td><td>Near Ukraine</td></tr><tr><td>petersalomonsen.near</td><td>67</td><td>1.0909090909090908</td><td>2</td><td>Core Devs</td></tr><tr><td>web3client.near</td><td>11</td><td>1.053811659192825</td><td>2</td><td>Core Devs</td></tr><tr><td>heyw00d.near</td><td>9</td><td>1.0</td><td>2</td><td>Core Devs</td></tr><tr><td>mundoaurora.near</td><td>44</td><td>0.92570281124498</td><td>0</td><td>Aurora Network</td></tr></tbody></table></div>"
      ]
     },
     "metadata": {
      "application/vnd.databricks.v1+output": {
       "addedWidgets": {},
       "aggData": [],
       "aggError": "",
       "aggOverflow": false,
       "aggSchema": [],
       "aggSeriesLimitReached": false,
       "aggType": "",
       "arguments": {},
       "columnCustomDisplayInfos": {},
       "data": [
        [
         "marieke.near",
         173,
         3.130434782608696,
         2,
         "Core Devs"
        ],
        [
         "microchipgnu.near",
         109,
         3.0112359550561796,
         3,
         "Near Ukraine"
        ],
        [
         "near-nigeria.near",
         19,
         2.1594202898550723,
         11,
         "Near Nigeria"
        ],
        [
         "calimero.near",
         12,
         2.0892857142857144,
         2,
         "Core Devs"
        ],
        [
         "nearukraineguild.near",
         21,
         2.0217391304347827,
         3,
         "Near Ukraine"
        ],
        [
         "partners.learnclub.near",
         151,
         1.841121495327103,
         10,
         "Learn Near Club"
        ],
        [
         "shemar268abel.near",
         4,
         1.78,
         3,
         "Near Ukraine"
        ],
        [
         "yamirghofran.near",
         1,
         1.5294117647058825,
         6,
         "Amirghofran"
        ],
        [
         "kemo.near",
         12,
         1.5,
         3,
         "Near Ukraine"
        ],
        [
         "mxjxn.near",
         9,
         1.4318181818181817,
         3,
         "Near Ukraine"
        ],
        [
         "mob.near",
         260,
         1.3695652173913044,
         2,
         "Core Devs"
        ],
        [
         "vlad.near",
         127,
         1.3285714285714287,
         2,
         "Core Devs"
        ],
        [
         "nfcommunity.near",
         32,
         1.231111111111111,
         2,
         "Core Devs"
        ],
        [
         "nathanx.near",
         5,
         1.2096774193548387,
         3,
         "Near Ukraine"
        ],
        [
         "ihyshan.near",
         3,
         1.2033898305084745,
         3,
         "Near Ukraine"
        ],
        [
         "meta-pool-official.near",
         106,
         1.1823899371069182,
         3,
         "Near Ukraine"
        ],
        [
         "petersalomonsen.near",
         67,
         1.0909090909090908,
         2,
         "Core Devs"
        ],
        [
         "web3client.near",
         11,
         1.053811659192825,
         2,
         "Core Devs"
        ],
        [
         "heyw00d.near",
         9,
         1.0,
         2,
         "Core Devs"
        ],
        [
         "mundoaurora.near",
         44,
         0.92570281124498,
         0,
         "Aurora Network"
        ]
       ],
       "datasetInfos": [],
       "dbfsResultPath": null,
       "isJsonSchema": true,
       "metadata": {},
       "overflow": false,
       "plotOptions": {
        "customPlotOptions": {},
        "displayType": "table",
        "pivotAggregation": null,
        "pivotColumns": null,
        "xColumns": null,
        "yColumns": null
       },
       "removedWidgets": [],
       "schema": [
        {
         "metadata": "{}",
         "name": "user_name",
         "type": "\"string\""
        },
        {
         "metadata": "{}",
         "name": "followers",
         "type": "\"long\""
        },
        {
         "metadata": "{}",
         "name": "trending_metric",
         "type": "\"double\""
        },
        {
         "metadata": "{}",
         "name": "com_ID",
         "type": "\"long\""
        },
        {
         "metadata": "{}",
         "name": "com_name",
         "type": "\"string\""
        }
       ],
       "type": "table"
      }
     },
     "output_type": "display_data"
    }
   ],
   "source": [
    "display(trending_users_df)"
   ]
  },
  {
   "cell_type": "code",
   "execution_count": 0,
   "metadata": {
    "application/vnd.databricks.v1+cell": {
     "cellMetadata": {
      "byteLimit": 2048000,
      "rowLimit": 10000
     },
     "inputWidgets": {},
     "nuid": "8249ca6a-19f9-4477-ba1d-6cd29c3f2c4b",
     "showTitle": false,
     "title": ""
    }
   },
   "outputs": [],
   "source": [
    "# Save as JSON for widget implementation\n",
    "trending_users_df[['user_name', 'com_ID']].to_json('trending_users.json', orient='records')"
   ]
  },
  {
   "cell_type": "markdown",
   "metadata": {
    "application/vnd.databricks.v1+cell": {
     "cellMetadata": {
      "byteLimit": 2048000,
      "rowLimit": 10000
     },
     "inputWidgets": {},
     "nuid": "14cd0641-b00b-4730-9e82-eb3140e5441d",
     "showTitle": false,
     "title": ""
    }
   },
   "source": [
    "## Top 10 Communities and their Top trending user"
   ]
  },
  {
   "cell_type": "code",
   "execution_count": 0,
   "metadata": {
    "application/vnd.databricks.v1+cell": {
     "cellMetadata": {
      "byteLimit": 2048000,
      "rowLimit": 10000
     },
     "inputWidgets": {},
     "nuid": "76e2ef24-a4d3-4be2-83ed-3f37b8095eca",
     "showTitle": false,
     "title": ""
    }
   },
   "outputs": [
    {
     "output_type": "display_data",
     "data": {
      "text/html": [
       "<div>\n",
       "<style scoped>\n",
       "    .dataframe tbody tr th:only-of-type {\n",
       "        vertical-align: middle;\n",
       "    }\n",
       "\n",
       "    .dataframe tbody tr th {\n",
       "        vertical-align: top;\n",
       "    }\n",
       "\n",
       "    .dataframe thead th {\n",
       "        text-align: right;\n",
       "    }\n",
       "</style>\n",
       "<table border=\"1\" class=\"dataframe\">\n",
       "  <thead>\n",
       "    <tr style=\"text-align: right;\">\n",
       "      <th></th>\n",
       "      <th>signer_id</th>\n",
       "      <th>followers</th>\n",
       "      <th>engagement_weighted_30d</th>\n",
       "      <th>activity_weighted_30d</th>\n",
       "      <th>louvain_community</th>\n",
       "      <th>louvain_size</th>\n",
       "      <th>trending_metric</th>\n",
       "      <th>rank</th>\n",
       "    </tr>\n",
       "  </thead>\n",
       "  <tbody>\n",
       "    <tr>\n",
       "      <th>6</th>\n",
       "      <td>marieke.near</td>\n",
       "      <td>173.0</td>\n",
       "      <td>7.2</td>\n",
       "      <td>2.3</td>\n",
       "      <td>2.0</td>\n",
       "      <td>545.0</td>\n",
       "      <td>3.130435</td>\n",
       "      <td>1.0</td>\n",
       "    </tr>\n",
       "    <tr>\n",
       "      <th>23</th>\n",
       "      <td>microchipgnu.near</td>\n",
       "      <td>109.0</td>\n",
       "      <td>26.8</td>\n",
       "      <td>8.9</td>\n",
       "      <td>3.0</td>\n",
       "      <td>527.0</td>\n",
       "      <td>3.011236</td>\n",
       "      <td>1.0</td>\n",
       "    </tr>\n",
       "    <tr>\n",
       "      <th>209</th>\n",
       "      <td>near-nigeria.near</td>\n",
       "      <td>19.0</td>\n",
       "      <td>14.9</td>\n",
       "      <td>6.9</td>\n",
       "      <td>11.0</td>\n",
       "      <td>84.0</td>\n",
       "      <td>2.159420</td>\n",
       "      <td>1.0</td>\n",
       "    </tr>\n",
       "    <tr>\n",
       "      <th>10</th>\n",
       "      <td>partners.learnclub.near</td>\n",
       "      <td>151.0</td>\n",
       "      <td>19.7</td>\n",
       "      <td>10.7</td>\n",
       "      <td>10.0</td>\n",
       "      <td>89.0</td>\n",
       "      <td>1.841121</td>\n",
       "      <td>1.0</td>\n",
       "    </tr>\n",
       "    <tr>\n",
       "      <th>1415</th>\n",
       "      <td>yamirghofran.near</td>\n",
       "      <td>1.0</td>\n",
       "      <td>2.6</td>\n",
       "      <td>1.7</td>\n",
       "      <td>6.0</td>\n",
       "      <td>213.0</td>\n",
       "      <td>1.529412</td>\n",
       "      <td>1.0</td>\n",
       "    </tr>\n",
       "    <tr>\n",
       "      <th>86</th>\n",
       "      <td>mundoaurora.near</td>\n",
       "      <td>44.0</td>\n",
       "      <td>46.1</td>\n",
       "      <td>49.8</td>\n",
       "      <td>0.0</td>\n",
       "      <td>998.0</td>\n",
       "      <td>0.925703</td>\n",
       "      <td>1.0</td>\n",
       "    </tr>\n",
       "    <tr>\n",
       "      <th>25</th>\n",
       "      <td>nearinturkiye.near</td>\n",
       "      <td>103.0</td>\n",
       "      <td>56.9</td>\n",
       "      <td>65.3</td>\n",
       "      <td>5.0</td>\n",
       "      <td>335.0</td>\n",
       "      <td>0.871363</td>\n",
       "      <td>1.0</td>\n",
       "    </tr>\n",
       "    <tr>\n",
       "      <th>1421</th>\n",
       "      <td>0xgh.near</td>\n",
       "      <td>1.0</td>\n",
       "      <td>5.6</td>\n",
       "      <td>10.2</td>\n",
       "      <td>46.0</td>\n",
       "      <td>2.0</td>\n",
       "      <td>0.549020</td>\n",
       "      <td>1.0</td>\n",
       "    </tr>\n",
       "  </tbody>\n",
       "</table>\n",
       "</div>"
      ]
     },
     "metadata": {
      "application/vnd.databricks.v1+output": {
       "addedWidgets": {},
       "arguments": {},
       "data": "<div>\n<style scoped>\n    .dataframe tbody tr th:only-of-type {\n        vertical-align: middle;\n    }\n\n    .dataframe tbody tr th {\n        vertical-align: top;\n    }\n\n    .dataframe thead th {\n        text-align: right;\n    }\n</style>\n<table border=\"1\" class=\"dataframe\">\n  <thead>\n    <tr style=\"text-align: right;\">\n      <th></th>\n      <th>signer_id</th>\n      <th>followers</th>\n      <th>engagement_weighted_30d</th>\n      <th>activity_weighted_30d</th>\n      <th>louvain_community</th>\n      <th>louvain_size</th>\n      <th>trending_metric</th>\n      <th>rank</th>\n    </tr>\n  </thead>\n  <tbody>\n    <tr>\n      <th>6</th>\n      <td>marieke.near</td>\n      <td>173.0</td>\n      <td>7.2</td>\n      <td>2.3</td>\n      <td>2.0</td>\n      <td>545.0</td>\n      <td>3.130435</td>\n      <td>1.0</td>\n    </tr>\n    <tr>\n      <th>23</th>\n      <td>microchipgnu.near</td>\n      <td>109.0</td>\n      <td>26.8</td>\n      <td>8.9</td>\n      <td>3.0</td>\n      <td>527.0</td>\n      <td>3.011236</td>\n      <td>1.0</td>\n    </tr>\n    <tr>\n      <th>209</th>\n      <td>near-nigeria.near</td>\n      <td>19.0</td>\n      <td>14.9</td>\n      <td>6.9</td>\n      <td>11.0</td>\n      <td>84.0</td>\n      <td>2.159420</td>\n      <td>1.0</td>\n    </tr>\n    <tr>\n      <th>10</th>\n      <td>partners.learnclub.near</td>\n      <td>151.0</td>\n      <td>19.7</td>\n      <td>10.7</td>\n      <td>10.0</td>\n      <td>89.0</td>\n      <td>1.841121</td>\n      <td>1.0</td>\n    </tr>\n    <tr>\n      <th>1415</th>\n      <td>yamirghofran.near</td>\n      <td>1.0</td>\n      <td>2.6</td>\n      <td>1.7</td>\n      <td>6.0</td>\n      <td>213.0</td>\n      <td>1.529412</td>\n      <td>1.0</td>\n    </tr>\n    <tr>\n      <th>86</th>\n      <td>mundoaurora.near</td>\n      <td>44.0</td>\n      <td>46.1</td>\n      <td>49.8</td>\n      <td>0.0</td>\n      <td>998.0</td>\n      <td>0.925703</td>\n      <td>1.0</td>\n    </tr>\n    <tr>\n      <th>25</th>\n      <td>nearinturkiye.near</td>\n      <td>103.0</td>\n      <td>56.9</td>\n      <td>65.3</td>\n      <td>5.0</td>\n      <td>335.0</td>\n      <td>0.871363</td>\n      <td>1.0</td>\n    </tr>\n    <tr>\n      <th>1421</th>\n      <td>0xgh.near</td>\n      <td>1.0</td>\n      <td>5.6</td>\n      <td>10.2</td>\n      <td>46.0</td>\n      <td>2.0</td>\n      <td>0.549020</td>\n      <td>1.0</td>\n    </tr>\n  </tbody>\n</table>\n</div>",
       "datasetInfos": [],
       "metadata": {},
       "removedWidgets": [],
       "textData": null,
       "type": "htmlSandbox"
      }
     },
     "output_type": "display_data"
    }
   ],
   "source": [
    "# List of Top10 communities by engagement\n",
    "top10coms = list(df.groupby('louvain_community')['engagement_weighted_30d'].sum().sort_values(ascending=False).head(10).index) \n",
    "\n",
    "# List of first user by trending metric in each Top10 communities\n",
    "top10coms_aux = df[['signer_id', \n",
    "                   'followers',\n",
    "                   'engagement_weighted_30d', \n",
    "                   'activity_weighted_30d', \n",
    "                   'louvain_community',\n",
    "                   'louvain_size',\n",
    "                   'trending_metric'\n",
    "                   ]][df['louvain_community'].isin(top10coms)]\n",
    "top10coms_aux['rank'] = top10coms_aux.groupby('louvain_community')['trending_metric'].rank(method='first', ascending=False)\n",
    "top10coms_df = top10coms_aux[top10coms_aux['rank']<2.0].sort_values('trending_metric', ascending=False)\n",
    "top10coms_df"
   ]
  },
  {
   "cell_type": "markdown",
   "metadata": {
    "application/vnd.databricks.v1+cell": {
     "cellMetadata": {
      "byteLimit": 2048000,
      "rowLimit": 10000
     },
     "inputWidgets": {},
     "nuid": "4346f870-05ba-4a7f-a533-74b9544cb214",
     "showTitle": false,
     "title": ""
    }
   },
   "source": [
    "## Random trending user recommendation function"
   ]
  },
  {
   "cell_type": "code",
   "execution_count": 0,
   "metadata": {
    "application/vnd.databricks.v1+cell": {
     "cellMetadata": {
      "byteLimit": 2048000,
      "rowLimit": 10000
     },
     "inputWidgets": {},
     "nuid": "4ecb37e3-bfd1-434f-91f2-1a612c66d0a3",
     "showTitle": false,
     "title": ""
    }
   },
   "outputs": [],
   "source": [
    "def n_trending_users(n):\n",
    "    '''Return a random list of n users from the top 20 trending users'''\n",
    "    return random.sample(list(trending_users_df['user_name']), n)\n",
    "\n",
    "def trending_users_outside_community (user, n):\n",
    "    '''Return a random list of n users from the top 20 trending users in a different community than the input user'''\n",
    "    user_community = df[df['signer_id']==user]['louvain_community'].values[0]\n",
    "    aux_df = trending_users_df[trending_users_df['com_ID']!=user_community]\n",
    "    return random.sample(list(aux_df['user_name']), n)\n"
   ]
  },
  {
   "cell_type": "code",
   "execution_count": 0,
   "metadata": {
    "application/vnd.databricks.v1+cell": {
     "cellMetadata": {
      "byteLimit": 2048000,
      "rowLimit": 10000
     },
     "inputWidgets": {},
     "nuid": "a346a74e-fef3-4189-ac43-35a718364ccf",
     "showTitle": false,
     "title": ""
    }
   },
   "outputs": [
    {
     "output_type": "stream",
     "name": "stdout",
     "output_type": "stream",
     "text": [
      "Out[10]: ['meta-pool-official.near', 'shemar268abel.near', 'mxjxn.near']"
     ]
    }
   ],
   "source": [
    "trending_users_outside_community('rojoser.near', 3)"
   ]
  },
  {
   "cell_type": "code",
   "execution_count": 0,
   "metadata": {
    "application/vnd.databricks.v1+cell": {
     "cellMetadata": {
      "byteLimit": 2048000,
      "rowLimit": 10000
     },
     "inputWidgets": {},
     "nuid": "da065e30-f2a0-493d-b609-a4c87be714a2",
     "showTitle": false,
     "title": ""
    }
   },
   "outputs": [
    {
     "output_type": "stream",
     "name": "stdout",
     "output_type": "stream",
     "text": [
      "Out[11]: ['mob.near', 'marieke.near', 'ihyshan.near']"
     ]
    }
   ],
   "source": [
    "n_trending_users(3)"
   ]
  },
  {
   "cell_type": "code",
   "execution_count": 0,
   "metadata": {
    "application/vnd.databricks.v1+cell": {
     "cellMetadata": {
      "byteLimit": 2048000,
      "rowLimit": 10000
     },
     "inputWidgets": {},
     "nuid": "3e0efa1f-59dd-4cec-b0ff-f0a5d455be15",
     "showTitle": false,
     "title": ""
    }
   },
   "outputs": [
    {
     "output_type": "display_data",
     "data": {
      "text/html": [
       "<div>\n",
       "<style scoped>\n",
       "    .dataframe tbody tr th:only-of-type {\n",
       "        vertical-align: middle;\n",
       "    }\n",
       "\n",
       "    .dataframe tbody tr th {\n",
       "        vertical-align: top;\n",
       "    }\n",
       "\n",
       "    .dataframe thead th {\n",
       "        text-align: right;\n",
       "    }\n",
       "</style>\n",
       "<table border=\"1\" class=\"dataframe\">\n",
       "  <thead>\n",
       "    <tr style=\"text-align: right;\">\n",
       "      <th></th>\n",
       "      <th>signer_id</th>\n",
       "      <th>followers</th>\n",
       "      <th>following</th>\n",
       "    </tr>\n",
       "  </thead>\n",
       "  <tbody>\n",
       "    <tr>\n",
       "      <th>2</th>\n",
       "      <td>mob.near</td>\n",
       "      <td>260.0</td>\n",
       "      <td>114.0</td>\n",
       "    </tr>\n",
       "  </tbody>\n",
       "</table>\n",
       "</div>"
      ]
     },
     "metadata": {
      "application/vnd.databricks.v1+output": {
       "addedWidgets": {},
       "arguments": {},
       "data": "<div>\n<style scoped>\n    .dataframe tbody tr th:only-of-type {\n        vertical-align: middle;\n    }\n\n    .dataframe tbody tr th {\n        vertical-align: top;\n    }\n\n    .dataframe thead th {\n        text-align: right;\n    }\n</style>\n<table border=\"1\" class=\"dataframe\">\n  <thead>\n    <tr style=\"text-align: right;\">\n      <th></th>\n      <th>signer_id</th>\n      <th>followers</th>\n      <th>following</th>\n    </tr>\n  </thead>\n  <tbody>\n    <tr>\n      <th>2</th>\n      <td>mob.near</td>\n      <td>260.0</td>\n      <td>114.0</td>\n    </tr>\n  </tbody>\n</table>\n</div>",
       "datasetInfos": [],
       "metadata": {},
       "removedWidgets": [],
       "textData": null,
       "type": "htmlSandbox"
      }
     },
     "output_type": "display_data"
    }
   ],
   "source": [
    "df[['signer_id', 'followers', 'following']][df.signer_id=='mob.near']"
   ]
  }
 ],
 "metadata": {
  "application/vnd.databricks.v1+notebook": {
   "dashboards": [],
   "language": "python",
   "notebookMetadata": {
    "mostRecentlyExecutedCommandWithImplicitDF": {
     "commandId": 2287444748191033,
     "dataframes": [
      "_sqldf"
     ]
    },
    "pythonIndentUnit": 4
   },
   "notebookName": "Trending users",
   "widgets": {}
  }
 },
 "nbformat": 4,
 "nbformat_minor": 0
}
